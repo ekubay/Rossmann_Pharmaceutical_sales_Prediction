{
 "cells": [
  {
   "cell_type": "markdown",
   "id": "b1a30aa9",
   "metadata": {},
   "source": [
    "# Time Series Analysis with Deep Learning \n",
    "Time series analysis is an approach to analyze time series data to extract meaningful characteristics of data and generate other useful insights applied in business situation. \n",
    "### Steps in the process\n",
    "- Preprocessing\n",
    "- Define neural network shape and Model Compilation\n",
    "- Fit Model\n",
    "- Evaluation\n",
    "- Visualize prediction\n",
    "### Models\n",
    "- DNNs\n",
    "- RNNs\n",
    "- LSTM\n",
    "### Comparing Models"
   ]
  },
  {
   "cell_type": "code",
   "execution_count": null,
   "id": "5e03e343",
   "metadata": {},
   "outputs": [],
   "source": []
  },
  {
   "cell_type": "code",
   "execution_count": 1,
   "id": "839f408a",
   "metadata": {},
   "outputs": [],
   "source": [
    "import os\n",
    "import sys\n",
    "sys.path.append(os.path.abspath(os.path.join('../scripts')))\n",
    "import warnings\n",
    "warnings.filterwarnings('ignore')\n",
    "import logging\n",
    "logging.basicConfig(level=os.environ.get(\"LOGLEVEL\", \"INFO\"))"
   ]
  },
  {
   "cell_type": "code",
   "execution_count": 2,
   "id": "49a97b2f",
   "metadata": {},
   "outputs": [
    {
     "name": "stderr",
     "output_type": "stream",
     "text": [
      "INFO:numexpr.utils:NumExpr defaulting to 8 threads.\n"
     ]
    }
   ],
   "source": [
    "# Importing Pandas an Numpy Libraries to use on manipulating our Data\n",
    "import pandas as pd\n",
    "import numpy as np\n",
    "from sklearn.preprocessing import LabelEncoder\n",
    "from sklearn.impute import SimpleImputer\n",
    "from sklearn.model_selection import train_test_split\n",
    "import matplotlib.pyplot as plt\n",
    "import seaborn as sns\n",
    "from xgboost import XGBClassifier\n",
    "from sklearn.tree import DecisionTreeClassifier\n",
    "from sklearn.ensemble import RandomForestClassifier\n",
    "from sklearn.neighbors import KNeighborsClassifier\n",
    "from sklearn.linear_model import LogisticRegression\n",
    "from sklearn.naive_bayes import BernoulliNB, GaussianNB\n",
    "from sklearn.preprocessing import MinMaxScaler\n",
    "# To evaluate end result we have\n",
    "from sklearn.metrics import accuracy_score, confusion_matrix\n",
    "from sklearn.model_selection import LeaveOneOut\n",
    "from sklearn.model_selection import cross_val_score"
   ]
  },
  {
   "cell_type": "code",
   "execution_count": 6,
   "id": "69f83517",
   "metadata": {},
   "outputs": [],
   "source": [
    "import warnings\n",
    "warnings.filterwarnings('ignore')\n",
    "import dvc.api"
   ]
  },
  {
   "cell_type": "markdown",
   "id": "99e6606b",
   "metadata": {},
   "source": [
    "### Custom library"
   ]
  },
  {
   "cell_type": "code",
   "execution_count": 5,
   "id": "173616cf",
   "metadata": {},
   "outputs": [],
   "source": [
    "from utility import ReadData\n",
    "from  Preprocessing import dataPreprocess\n",
    "# from logger import App_Logger\n",
    "from data_info import DataInfo\n",
    "import plotfunction\n",
    "import util as u"
   ]
  },
  {
   "cell_type": "code",
   "execution_count": 7,
   "id": "524f931e",
   "metadata": {},
   "outputs": [],
   "source": [
    "# this train data contains the merged data and versioned with DVC\n",
    "def get_data(tag, \n",
    "            path='data/train.csv', \n",
    "            repo ='C:/Users/Ekubay/Documents/Rossmann_Pharmaceutical_sales_Prediction'\n",
    "):\n",
    "    rev = tag\n",
    "    data_url = dvc.api.get_url(path=path, repo=repo, rev=rev)\n",
    "    df = pd.read_csv(data_url)\n",
    "    return df"
   ]
  },
  {
   "cell_type": "code",
   "execution_count": 206,
   "id": "7470a3db",
   "metadata": {},
   "outputs": [],
   "source": [
    "df_train = get_data('ver_4')"
   ]
  },
  {
   "cell_type": "code",
   "execution_count": 21,
   "id": "6ae870ee",
   "metadata": {},
   "outputs": [],
   "source": [
    "df_tests = get_data('ver_3')"
   ]
  },
  {
   "cell_type": "code",
   "execution_count": 94,
   "id": "e3cdd88b",
   "metadata": {
    "scrolled": false
   },
   "outputs": [
    {
     "data": {
      "text/html": [
       "<div>\n",
       "<style scoped>\n",
       "    .dataframe tbody tr th:only-of-type {\n",
       "        vertical-align: middle;\n",
       "    }\n",
       "\n",
       "    .dataframe tbody tr th {\n",
       "        vertical-align: top;\n",
       "    }\n",
       "\n",
       "    .dataframe thead th {\n",
       "        text-align: right;\n",
       "    }\n",
       "</style>\n",
       "<table border=\"1\" class=\"dataframe\">\n",
       "  <thead>\n",
       "    <tr style=\"text-align: right;\">\n",
       "      <th></th>\n",
       "      <th>Store</th>\n",
       "      <th>DayOfWeek</th>\n",
       "      <th>Sales</th>\n",
       "      <th>Customers</th>\n",
       "      <th>Open</th>\n",
       "      <th>Promo</th>\n",
       "      <th>StateHoliday</th>\n",
       "      <th>SchoolHoliday</th>\n",
       "      <th>Year</th>\n",
       "      <th>Month</th>\n",
       "      <th>...</th>\n",
       "      <th>StoreType</th>\n",
       "      <th>Assortment</th>\n",
       "      <th>CompetitionDistance</th>\n",
       "      <th>CompetitionOpenSinceMonth</th>\n",
       "      <th>CompetitionOpenSinceYear</th>\n",
       "      <th>Promo2</th>\n",
       "      <th>Promo2SinceWeek</th>\n",
       "      <th>Promo2SinceYear</th>\n",
       "      <th>PromoInterval</th>\n",
       "      <th>SalesperCustomer</th>\n",
       "    </tr>\n",
       "  </thead>\n",
       "  <tbody>\n",
       "    <tr>\n",
       "      <th>0</th>\n",
       "      <td>1</td>\n",
       "      <td>5</td>\n",
       "      <td>5263.0</td>\n",
       "      <td>555.0</td>\n",
       "      <td>1</td>\n",
       "      <td>1</td>\n",
       "      <td>0</td>\n",
       "      <td>1</td>\n",
       "      <td>2015</td>\n",
       "      <td>7</td>\n",
       "      <td>...</td>\n",
       "      <td>c</td>\n",
       "      <td>a</td>\n",
       "      <td>1270.0</td>\n",
       "      <td>9.0</td>\n",
       "      <td>2008.0</td>\n",
       "      <td>0</td>\n",
       "      <td>0.0</td>\n",
       "      <td>0.0</td>\n",
       "      <td>0</td>\n",
       "      <td>9.482883</td>\n",
       "    </tr>\n",
       "    <tr>\n",
       "      <th>1</th>\n",
       "      <td>1</td>\n",
       "      <td>4</td>\n",
       "      <td>5020.0</td>\n",
       "      <td>546.0</td>\n",
       "      <td>1</td>\n",
       "      <td>1</td>\n",
       "      <td>0</td>\n",
       "      <td>1</td>\n",
       "      <td>2015</td>\n",
       "      <td>7</td>\n",
       "      <td>...</td>\n",
       "      <td>c</td>\n",
       "      <td>a</td>\n",
       "      <td>1270.0</td>\n",
       "      <td>9.0</td>\n",
       "      <td>2008.0</td>\n",
       "      <td>0</td>\n",
       "      <td>0.0</td>\n",
       "      <td>0.0</td>\n",
       "      <td>0</td>\n",
       "      <td>9.194139</td>\n",
       "    </tr>\n",
       "    <tr>\n",
       "      <th>2</th>\n",
       "      <td>1</td>\n",
       "      <td>3</td>\n",
       "      <td>4782.0</td>\n",
       "      <td>523.0</td>\n",
       "      <td>1</td>\n",
       "      <td>1</td>\n",
       "      <td>0</td>\n",
       "      <td>1</td>\n",
       "      <td>2015</td>\n",
       "      <td>7</td>\n",
       "      <td>...</td>\n",
       "      <td>c</td>\n",
       "      <td>a</td>\n",
       "      <td>1270.0</td>\n",
       "      <td>9.0</td>\n",
       "      <td>2008.0</td>\n",
       "      <td>0</td>\n",
       "      <td>0.0</td>\n",
       "      <td>0.0</td>\n",
       "      <td>0</td>\n",
       "      <td>9.143403</td>\n",
       "    </tr>\n",
       "    <tr>\n",
       "      <th>3</th>\n",
       "      <td>1</td>\n",
       "      <td>2</td>\n",
       "      <td>5011.0</td>\n",
       "      <td>560.0</td>\n",
       "      <td>1</td>\n",
       "      <td>1</td>\n",
       "      <td>0</td>\n",
       "      <td>1</td>\n",
       "      <td>2015</td>\n",
       "      <td>7</td>\n",
       "      <td>...</td>\n",
       "      <td>c</td>\n",
       "      <td>a</td>\n",
       "      <td>1270.0</td>\n",
       "      <td>9.0</td>\n",
       "      <td>2008.0</td>\n",
       "      <td>0</td>\n",
       "      <td>0.0</td>\n",
       "      <td>0.0</td>\n",
       "      <td>0</td>\n",
       "      <td>8.948214</td>\n",
       "    </tr>\n",
       "    <tr>\n",
       "      <th>4</th>\n",
       "      <td>1</td>\n",
       "      <td>1</td>\n",
       "      <td>6102.0</td>\n",
       "      <td>612.0</td>\n",
       "      <td>1</td>\n",
       "      <td>1</td>\n",
       "      <td>0</td>\n",
       "      <td>1</td>\n",
       "      <td>2015</td>\n",
       "      <td>7</td>\n",
       "      <td>...</td>\n",
       "      <td>c</td>\n",
       "      <td>a</td>\n",
       "      <td>1270.0</td>\n",
       "      <td>9.0</td>\n",
       "      <td>2008.0</td>\n",
       "      <td>0</td>\n",
       "      <td>0.0</td>\n",
       "      <td>0.0</td>\n",
       "      <td>0</td>\n",
       "      <td>9.970588</td>\n",
       "    </tr>\n",
       "  </tbody>\n",
       "</table>\n",
       "<p>5 rows × 23 columns</p>\n",
       "</div>"
      ],
      "text/plain": [
       "   Store  DayOfWeek   Sales  Customers  Open  Promo StateHoliday  \\\n",
       "0      1          5  5263.0      555.0     1      1            0   \n",
       "1      1          4  5020.0      546.0     1      1            0   \n",
       "2      1          3  4782.0      523.0     1      1            0   \n",
       "3      1          2  5011.0      560.0     1      1            0   \n",
       "4      1          1  6102.0      612.0     1      1            0   \n",
       "\n",
       "   SchoolHoliday  Year  Month  ...  StoreType  Assortment CompetitionDistance  \\\n",
       "0              1  2015      7  ...          c           a              1270.0   \n",
       "1              1  2015      7  ...          c           a              1270.0   \n",
       "2              1  2015      7  ...          c           a              1270.0   \n",
       "3              1  2015      7  ...          c           a              1270.0   \n",
       "4              1  2015      7  ...          c           a              1270.0   \n",
       "\n",
       "  CompetitionOpenSinceMonth CompetitionOpenSinceYear  Promo2  Promo2SinceWeek  \\\n",
       "0                       9.0                   2008.0       0              0.0   \n",
       "1                       9.0                   2008.0       0              0.0   \n",
       "2                       9.0                   2008.0       0              0.0   \n",
       "3                       9.0                   2008.0       0              0.0   \n",
       "4                       9.0                   2008.0       0              0.0   \n",
       "\n",
       "   Promo2SinceYear  PromoInterval  SalesperCustomer  \n",
       "0              0.0              0          9.482883  \n",
       "1              0.0              0          9.194139  \n",
       "2              0.0              0          9.143403  \n",
       "3              0.0              0          8.948214  \n",
       "4              0.0              0          9.970588  \n",
       "\n",
       "[5 rows x 23 columns]"
      ]
     },
     "execution_count": 94,
     "metadata": {},
     "output_type": "execute_result"
    }
   ],
   "source": [
    "df_train.head()"
   ]
  },
  {
   "cell_type": "code",
   "execution_count": 95,
   "id": "7f18b650",
   "metadata": {},
   "outputs": [
    {
     "data": {
      "text/plain": [
       "Index(['Store', 'DayOfWeek', 'Sales', 'Customers', 'Open', 'Promo',\n",
       "       'StateHoliday', 'SchoolHoliday', 'Year', 'Month', 'Day', 'WeekOfYear',\n",
       "       'Dates', 'StoreType', 'Assortment', 'CompetitionDistance',\n",
       "       'CompetitionOpenSinceMonth', 'CompetitionOpenSinceYear', 'Promo2',\n",
       "       'Promo2SinceWeek', 'Promo2SinceYear', 'PromoInterval',\n",
       "       'SalesperCustomer'],\n",
       "      dtype='object')"
      ]
     },
     "execution_count": 95,
     "metadata": {},
     "output_type": "execute_result"
    }
   ],
   "source": [
    "df_train.columns"
   ]
  },
  {
   "cell_type": "markdown",
   "id": "93b0a960",
   "metadata": {},
   "source": [
    "**need to extract**\n",
    "- weekdays\n",
    "- weekends \n",
    "- number of days to holidays\n",
    "- Number of days after holiday\n",
    "- Beginning of month, mid month and ending of month\n",
    "(think of more features to extract), extra marks for it\n"
   ]
  },
  {
   "cell_type": "code",
   "execution_count": 209,
   "id": "2df1858f",
   "metadata": {},
   "outputs": [],
   "source": [
    "train_df = df_train.copy()"
   ]
  },
  {
   "cell_type": "code",
   "execution_count": 136,
   "id": "54405009",
   "metadata": {},
   "outputs": [],
   "source": [
    "train_df['Dates'] = pd.to_datetime(train_df['Dates'])"
   ]
  },
  {
   "cell_type": "code",
   "execution_count": 137,
   "id": "c662bfaa",
   "metadata": {},
   "outputs": [],
   "source": [
    "train_df['weekdays'] = train_df['Dates'].dt.weekday + 1"
   ]
  },
  {
   "cell_type": "code",
   "execution_count": 138,
   "id": "21cce274",
   "metadata": {
    "scrolled": true
   },
   "outputs": [
    {
     "data": {
      "text/plain": [
       "0    5\n",
       "1    4\n",
       "2    3\n",
       "3    2\n",
       "4    1\n",
       "Name: weekdays, dtype: int64"
      ]
     },
     "execution_count": 138,
     "metadata": {},
     "output_type": "execute_result"
    }
   ],
   "source": [
    "train_df['weekdays'].head()"
   ]
  },
  {
   "cell_type": "code",
   "execution_count": 139,
   "id": "85cf4ffa",
   "metadata": {},
   "outputs": [],
   "source": [
    "# weekend\n",
    "train_df['Weekends'] = train_df['Dates'].dt.weekday + 1"
   ]
  },
  {
   "cell_type": "code",
   "execution_count": 141,
   "id": "ba79b349",
   "metadata": {},
   "outputs": [],
   "source": [
    "train_df['Weekends'] = train_df['Weekends'].mask(train_df['Weekends'].values >= 6, 0)"
   ]
  },
  {
   "cell_type": "code",
   "execution_count": 142,
   "id": "d5551b25",
   "metadata": {
    "scrolled": false
   },
   "outputs": [
    {
     "data": {
      "text/html": [
       "<div>\n",
       "<style scoped>\n",
       "    .dataframe tbody tr th:only-of-type {\n",
       "        vertical-align: middle;\n",
       "    }\n",
       "\n",
       "    .dataframe tbody tr th {\n",
       "        vertical-align: top;\n",
       "    }\n",
       "\n",
       "    .dataframe thead th {\n",
       "        text-align: right;\n",
       "    }\n",
       "</style>\n",
       "<table border=\"1\" class=\"dataframe\">\n",
       "  <thead>\n",
       "    <tr style=\"text-align: right;\">\n",
       "      <th></th>\n",
       "      <th>weekdays</th>\n",
       "      <th>Weekends</th>\n",
       "    </tr>\n",
       "  </thead>\n",
       "  <tbody>\n",
       "    <tr>\n",
       "      <th>0</th>\n",
       "      <td>5</td>\n",
       "      <td>5</td>\n",
       "    </tr>\n",
       "    <tr>\n",
       "      <th>1</th>\n",
       "      <td>4</td>\n",
       "      <td>4</td>\n",
       "    </tr>\n",
       "    <tr>\n",
       "      <th>2</th>\n",
       "      <td>3</td>\n",
       "      <td>3</td>\n",
       "    </tr>\n",
       "    <tr>\n",
       "      <th>3</th>\n",
       "      <td>2</td>\n",
       "      <td>2</td>\n",
       "    </tr>\n",
       "    <tr>\n",
       "      <th>4</th>\n",
       "      <td>1</td>\n",
       "      <td>1</td>\n",
       "    </tr>\n",
       "  </tbody>\n",
       "</table>\n",
       "</div>"
      ],
      "text/plain": [
       "   weekdays  Weekends\n",
       "0         5         5\n",
       "1         4         4\n",
       "2         3         3\n",
       "3         2         2\n",
       "4         1         1"
      ]
     },
     "execution_count": 142,
     "metadata": {},
     "output_type": "execute_result"
    }
   ],
   "source": [
    "train_df[['weekdays','Weekends']].head()"
   ]
  },
  {
   "cell_type": "code",
   "execution_count": 154,
   "id": "e64a6899",
   "metadata": {},
   "outputs": [
    {
     "data": {
      "text/plain": [
       "Index(['Store', 'DayOfWeek', 'Sales', 'Customers', 'Open', 'Promo',\n",
       "       'StateHoliday', 'SchoolHoliday', 'Year', 'Month', 'Day', 'WeekOfYear',\n",
       "       'Dates', 'StoreType', 'Assortment', 'CompetitionDistance',\n",
       "       'CompetitionOpenSinceMonth', 'CompetitionOpenSinceYear', 'Promo2',\n",
       "       'Promo2SinceWeek', 'Promo2SinceYear', 'PromoInterval',\n",
       "       'SalesperCustomer', 'weekdays', 'Weekends'],\n",
       "      dtype='object')"
      ]
     },
     "execution_count": 154,
     "metadata": {},
     "output_type": "execute_result"
    }
   ],
   "source": [
    "train_df.columns"
   ]
  },
  {
   "cell_type": "code",
   "execution_count": 160,
   "id": "b84dec63",
   "metadata": {},
   "outputs": [],
   "source": [
    "#train_df.query('Weekends == 0')"
   ]
  },
  {
   "cell_type": "code",
   "execution_count": 158,
   "id": "3489c7e0",
   "metadata": {
    "scrolled": false
   },
   "outputs": [
    {
     "data": {
      "text/plain": [
       "dtype('int64')"
      ]
     },
     "execution_count": 158,
     "metadata": {},
     "output_type": "execute_result"
    }
   ],
   "source": [
    "train_df.Weekends.dtypes"
   ]
  },
  {
   "cell_type": "code",
   "execution_count": 49,
   "id": "7f87aa71",
   "metadata": {},
   "outputs": [
    {
     "data": {
      "text/html": [
       "<div>\n",
       "<style scoped>\n",
       "    .dataframe tbody tr th:only-of-type {\n",
       "        vertical-align: middle;\n",
       "    }\n",
       "\n",
       "    .dataframe tbody tr th {\n",
       "        vertical-align: top;\n",
       "    }\n",
       "\n",
       "    .dataframe thead th {\n",
       "        text-align: right;\n",
       "    }\n",
       "</style>\n",
       "<table border=\"1\" class=\"dataframe\">\n",
       "  <thead>\n",
       "    <tr style=\"text-align: right;\">\n",
       "      <th></th>\n",
       "      <th>Store</th>\n",
       "      <th>DayOfWeek</th>\n",
       "      <th>Date</th>\n",
       "      <th>Sales</th>\n",
       "      <th>Customers</th>\n",
       "      <th>Open</th>\n",
       "      <th>Promo</th>\n",
       "      <th>StateHoliday</th>\n",
       "      <th>SchoolHoliday</th>\n",
       "    </tr>\n",
       "  </thead>\n",
       "  <tbody>\n",
       "    <tr>\n",
       "      <th>0</th>\n",
       "      <td>1</td>\n",
       "      <td>5</td>\n",
       "      <td>2015-07-31</td>\n",
       "      <td>5263</td>\n",
       "      <td>555</td>\n",
       "      <td>1</td>\n",
       "      <td>1</td>\n",
       "      <td>0</td>\n",
       "      <td>1</td>\n",
       "    </tr>\n",
       "    <tr>\n",
       "      <th>1</th>\n",
       "      <td>2</td>\n",
       "      <td>5</td>\n",
       "      <td>2015-07-31</td>\n",
       "      <td>6064</td>\n",
       "      <td>625</td>\n",
       "      <td>1</td>\n",
       "      <td>1</td>\n",
       "      <td>0</td>\n",
       "      <td>1</td>\n",
       "    </tr>\n",
       "    <tr>\n",
       "      <th>2</th>\n",
       "      <td>3</td>\n",
       "      <td>5</td>\n",
       "      <td>2015-07-31</td>\n",
       "      <td>8314</td>\n",
       "      <td>821</td>\n",
       "      <td>1</td>\n",
       "      <td>1</td>\n",
       "      <td>0</td>\n",
       "      <td>1</td>\n",
       "    </tr>\n",
       "    <tr>\n",
       "      <th>3</th>\n",
       "      <td>4</td>\n",
       "      <td>5</td>\n",
       "      <td>2015-07-31</td>\n",
       "      <td>13995</td>\n",
       "      <td>1498</td>\n",
       "      <td>1</td>\n",
       "      <td>1</td>\n",
       "      <td>0</td>\n",
       "      <td>1</td>\n",
       "    </tr>\n",
       "    <tr>\n",
       "      <th>4</th>\n",
       "      <td>5</td>\n",
       "      <td>5</td>\n",
       "      <td>2015-07-31</td>\n",
       "      <td>4822</td>\n",
       "      <td>559</td>\n",
       "      <td>1</td>\n",
       "      <td>1</td>\n",
       "      <td>0</td>\n",
       "      <td>1</td>\n",
       "    </tr>\n",
       "  </tbody>\n",
       "</table>\n",
       "</div>"
      ],
      "text/plain": [
       "   Store  DayOfWeek       Date  Sales  Customers  Open  Promo StateHoliday  \\\n",
       "0      1          5 2015-07-31   5263        555     1      1            0   \n",
       "1      2          5 2015-07-31   6064        625     1      1            0   \n",
       "2      3          5 2015-07-31   8314        821     1      1            0   \n",
       "3      4          5 2015-07-31  13995       1498     1      1            0   \n",
       "4      5          5 2015-07-31   4822        559     1      1            0   \n",
       "\n",
       "   SchoolHoliday  \n",
       "0              1  \n",
       "1              1  \n",
       "2              1  \n",
       "3              1  \n",
       "4              1  "
      ]
     },
     "execution_count": 49,
     "metadata": {},
     "output_type": "execute_result"
    }
   ],
   "source": [
    "df_tests.head()"
   ]
  },
  {
   "cell_type": "code",
   "execution_count": null,
   "id": "f39d7757",
   "metadata": {},
   "outputs": [],
   "source": [
    "df_tests."
   ]
  },
  {
   "cell_type": "code",
   "execution_count": 16,
   "id": "065a901f",
   "metadata": {},
   "outputs": [
    {
     "data": {
      "text/plain": [
       "0    2015-07-31\n",
       "1    2015-07-30\n",
       "2    2015-07-29\n",
       "3    2015-07-28\n",
       "4    2015-07-27\n",
       "Name: Dates, dtype: object"
      ]
     },
     "execution_count": 16,
     "metadata": {},
     "output_type": "execute_result"
    }
   ],
   "source": [
    "df_train['Dates'].head()"
   ]
  },
  {
   "cell_type": "code",
   "execution_count": 50,
   "id": "dc09474f",
   "metadata": {},
   "outputs": [],
   "source": [
    "df_train['Dates'] = pd.to_datetime(df_train['Dates'])"
   ]
  },
  {
   "cell_type": "code",
   "execution_count": 25,
   "id": "357471dd",
   "metadata": {},
   "outputs": [],
   "source": [
    "df_tests['Date'] = pd.to_datetime(df_tests['Date'])"
   ]
  },
  {
   "cell_type": "code",
   "execution_count": 20,
   "id": "a034d532",
   "metadata": {},
   "outputs": [
    {
     "data": {
      "text/plain": [
       "dtype('<M8[ns]')"
      ]
     },
     "execution_count": 20,
     "metadata": {},
     "output_type": "execute_result"
    }
   ],
   "source": [
    "df_train['Dates'].dtypes"
   ]
  },
  {
   "cell_type": "code",
   "execution_count": null,
   "id": "52f9bdaa",
   "metadata": {},
   "outputs": [],
   "source": []
  },
  {
   "cell_type": "markdown",
   "id": "8a2b039c",
   "metadata": {},
   "source": [
    "### Model 1: DNN\n",
    "- A deep neural network (DNN) is an artificial neural network (ANN) with multiple layers between the input and output layers\n",
    "- How to apply DNN for time-series data? The key idea here: we consider time-series as linear model"
   ]
  },
  {
   "cell_type": "markdown",
   "id": "300dc04d",
   "metadata": {},
   "source": [
    "### Step 1: Data Preprocessing\n",
    "Import a helper function of convert2matrix to reshape dataset in order to create 2-D input shape of DNN. A full connected net — the main difference between RNN or LTSM"
   ]
  },
  {
   "cell_type": "code",
   "execution_count": 270,
   "id": "be3a9bf1",
   "metadata": {},
   "outputs": [],
   "source": [
    "sales_DN = df_train.groupby(\"Dates\").agg({\"Sales\": \"mean\"})"
   ]
  },
  {
   "cell_type": "code",
   "execution_count": 271,
   "id": "1640897d",
   "metadata": {
    "scrolled": true
   },
   "outputs": [
    {
     "data": {
      "text/html": [
       "<div>\n",
       "<style scoped>\n",
       "    .dataframe tbody tr th:only-of-type {\n",
       "        vertical-align: middle;\n",
       "    }\n",
       "\n",
       "    .dataframe tbody tr th {\n",
       "        vertical-align: top;\n",
       "    }\n",
       "\n",
       "    .dataframe thead th {\n",
       "        text-align: right;\n",
       "    }\n",
       "</style>\n",
       "<table border=\"1\" class=\"dataframe\">\n",
       "  <thead>\n",
       "    <tr style=\"text-align: right;\">\n",
       "      <th></th>\n",
       "      <th>Sales</th>\n",
       "    </tr>\n",
       "    <tr>\n",
       "      <th>Dates</th>\n",
       "      <th></th>\n",
       "    </tr>\n",
       "  </thead>\n",
       "  <tbody>\n",
       "    <tr>\n",
       "      <th>2013-01-01</th>\n",
       "      <td>76.940754</td>\n",
       "    </tr>\n",
       "    <tr>\n",
       "      <th>2013-01-02</th>\n",
       "      <td>6051.894170</td>\n",
       "    </tr>\n",
       "    <tr>\n",
       "      <th>2013-01-03</th>\n",
       "      <td>5578.240359</td>\n",
       "    </tr>\n",
       "    <tr>\n",
       "      <th>2013-01-04</th>\n",
       "      <td>5833.756951</td>\n",
       "    </tr>\n",
       "    <tr>\n",
       "      <th>2013-01-05</th>\n",
       "      <td>5179.874439</td>\n",
       "    </tr>\n",
       "  </tbody>\n",
       "</table>\n",
       "</div>"
      ],
      "text/plain": [
       "                  Sales\n",
       "Dates                  \n",
       "2013-01-01    76.940754\n",
       "2013-01-02  6051.894170\n",
       "2013-01-03  5578.240359\n",
       "2013-01-04  5833.756951\n",
       "2013-01-05  5179.874439"
      ]
     },
     "execution_count": 271,
     "metadata": {},
     "output_type": "execute_result"
    }
   ],
   "source": [
    "sales_DN.head()"
   ]
  },
  {
   "cell_type": "code",
   "execution_count": 272,
   "id": "5e142e59",
   "metadata": {
    "scrolled": true
   },
   "outputs": [
    {
     "data": {
      "text/plain": [
       "(942, 1)"
      ]
     },
     "execution_count": 272,
     "metadata": {},
     "output_type": "execute_result"
    }
   ],
   "source": [
    "sales_df.shape"
   ]
  },
  {
   "cell_type": "code",
   "execution_count": null,
   "id": "4589eb48",
   "metadata": {},
   "outputs": [],
   "source": [
    "# scaler = StandardScaler()\n",
    "# scaled_array = scaler.fit_transform(data)\n",
    "# data['DataScaled'] = scaled_array"
   ]
  },
  {
   "cell_type": "code",
   "execution_count": null,
   "id": "59dc364b",
   "metadata": {},
   "outputs": [],
   "source": []
  },
  {
   "cell_type": "code",
   "execution_count": 273,
   "id": "af52f8b5",
   "metadata": {},
   "outputs": [],
   "source": [
    "def convert2matrix(data_arr, look_back):\n",
    "    X,Y =[], []\n",
    "    for i in range(len(data_arr)-look_back):\n",
    "        d=i+look_back  \n",
    "        X.append(data_arr[i:d,0])\n",
    "        Y.append(data_arr[d,0])\n",
    "    return np.array(X), np.array(Y)"
   ]
  },
  {
   "cell_type": "markdown",
   "id": "0e1a27c0",
   "metadata": {},
   "source": [
    "**Split data set into testing dataset and train dataset**"
   ]
  },
  {
   "cell_type": "code",
   "execution_count": 291,
   "id": "858dcbb1",
   "metadata": {},
   "outputs": [],
   "source": [
    "train_size = 842\n",
    "train, test =sales_df.values[0:train_size,:],sales_df.values[train_size:len(sales_df.values),:]\n",
    "# setup look_back window \n",
    "look_back = 2\n",
    "#convert dataset into right shape in order to input into the DNN\n",
    "trainX, trainY = convert2matrix(train, look_back)\n",
    "testX, testY = convert2matrix(test, look_back)"
   ]
  },
  {
   "cell_type": "code",
   "execution_count": 292,
   "id": "d1bd9f9e",
   "metadata": {},
   "outputs": [
    {
     "data": {
      "text/plain": [
       "(840, 2)"
      ]
     },
     "execution_count": 292,
     "metadata": {},
     "output_type": "execute_result"
    }
   ],
   "source": [
    "trainX.shape"
   ]
  },
  {
   "cell_type": "markdown",
   "id": "2a535dc1",
   "metadata": {},
   "source": [
    "### Step 2: Define neural network shape and compile model\n",
    "I built a very simple DNN with only one hidden layer."
   ]
  },
  {
   "cell_type": "code",
   "execution_count": 293,
   "id": "2ebda1de",
   "metadata": {},
   "outputs": [],
   "source": [
    "from keras.models import Sequential\n",
    "from keras.layers import Dense\n",
    "def model_dnn(look_back):\n",
    "    model=Sequential()\n",
    "    model.add(Dense(units=5, input_dim=look_back, activation='relu'))\n",
    "    model.add(Dense(5, activation='relu'))\n",
    "    model.add(Dense(1))\n",
    "    model.compile(loss='mean_squared_error',  optimizer='adam',metrics = ['mse', 'mae'])\n",
    "    return model"
   ]
  },
  {
   "cell_type": "markdown",
   "id": "9d7f77a6",
   "metadata": {},
   "source": [
    "### Step 3: Fit Model"
   ]
  },
  {
   "cell_type": "code",
   "execution_count": 294,
   "id": "2500f6bb",
   "metadata": {},
   "outputs": [],
   "source": [
    "from keras.callbacks import EarlyStopping\n",
    "from keras.layers import Dense, SimpleRNN"
   ]
  },
  {
   "cell_type": "code",
   "execution_count": 295,
   "id": "6f823bc8",
   "metadata": {},
   "outputs": [],
   "source": [
    "trainX = trainX.astype(int)\n",
    "trainY = trainY.astype(int)\n",
    "testX = testX.astype(int)\n",
    "testY = testY.astype(int)"
   ]
  },
  {
   "cell_type": "code",
   "execution_count": 296,
   "id": "251689c0",
   "metadata": {},
   "outputs": [
    {
     "name": "stderr",
     "output_type": "stream",
     "text": [
      "2022/09/09 22:11:14 WARNING mlflow.utils.autologging_utils: You are using an unsupported version of tensorflow. If you encounter errors during autologging, try upgrading / downgrading tensorflow to a supported version, or try upgrading MLflow.\n"
     ]
    }
   ],
   "source": [
    "mlflow.set_experiment(\"DNN\")\n",
    "mlflow.tensorflow.autolog()"
   ]
  },
  {
   "cell_type": "code",
   "execution_count": 297,
   "id": "b0dbd773",
   "metadata": {},
   "outputs": [
    {
     "name": "stderr",
     "output_type": "stream",
     "text": [
      "2022/09/09 22:11:21 INFO mlflow.utils.autologging_utils: Created MLflow autologging run with ID '96fd00d69dcb45bcad3de2c451aab4ab', which will track hyperparameters, performance metrics, model artifacts, and lineage information for the current tensorflow workflow\n"
     ]
    },
    {
     "name": "stdout",
     "output_type": "stream",
     "text": [
      "Epoch 1/100\n",
      " 1/28 [>.............................] - ETA: 19s - loss: 38828304.0000 - mse: 38828304.0000 - mae: 5840.0806"
     ]
    },
    {
     "name": "stderr",
     "output_type": "stream",
     "text": [
      "WARNING:tensorflow:Callback method `on_train_batch_end` is slow compared to the batch time (batch time: 0.0036s vs `on_train_batch_end` time: 0.0372s). Check your callbacks.\n"
     ]
    },
    {
     "name": "stdout",
     "output_type": "stream",
     "text": [
      "28/28 [==============================] - 2s 35ms/step - loss: 40836468.0000 - mse: 40836468.0000 - mae: 5821.6909 - val_loss: 40444932.0000 - val_mse: 40444932.0000 - val_mae: 5705.2617\n",
      "Epoch 2/100\n",
      "28/28 [==============================] - 0s 15ms/step - loss: 33759936.0000 - mse: 33759936.0000 - mae: 5229.1816 - val_loss: 33523696.0000 - val_mse: 33523696.0000 - val_mae: 5224.9653\n",
      "Epoch 3/100\n",
      "28/28 [==============================] - 0s 8ms/step - loss: 27660914.0000 - mse: 27660914.0000 - mae: 4784.4917 - val_loss: 27389298.0000 - val_mse: 27389298.0000 - val_mae: 4777.5068\n",
      "Epoch 4/100\n",
      "28/28 [==============================] - 0s 8ms/step - loss: 22246616.0000 - mse: 22246616.0000 - mae: 4325.7402 - val_loss: 21956538.0000 - val_mse: 21956538.0000 - val_mae: 4298.9722\n",
      "Epoch 5/100\n",
      "28/28 [==============================] - 0s 7ms/step - loss: 17895228.0000 - mse: 17895228.0000 - mae: 3867.3262 - val_loss: 18034390.0000 - val_mse: 18034390.0000 - val_mae: 3867.3628\n",
      "Epoch 6/100\n",
      "28/28 [==============================] - 0s 8ms/step - loss: 14954486.0000 - mse: 14954486.0000 - mae: 3461.4976 - val_loss: 15469447.0000 - val_mse: 15469447.0000 - val_mae: 3481.8325\n",
      "Epoch 7/100\n",
      "28/28 [==============================] - 0s 10ms/step - loss: 13112008.0000 - mse: 13112008.0000 - mae: 3107.1892 - val_loss: 13967009.0000 - val_mse: 13967009.0000 - val_mae: 3163.1638\n",
      "Epoch 8/100\n",
      "28/28 [==============================] - 0s 13ms/step - loss: 12093061.0000 - mse: 12093061.0000 - mae: 2844.0276 - val_loss: 13161320.0000 - val_mse: 13161320.0000 - val_mae: 2951.1135\n",
      "Epoch 9/100\n",
      "28/28 [==============================] - 0s 16ms/step - loss: 11506394.0000 - mse: 11506394.0000 - mae: 2698.3181 - val_loss: 12638137.0000 - val_mse: 12638137.0000 - val_mae: 2835.6951\n",
      "Epoch 10/100\n",
      "28/28 [==============================] - 0s 13ms/step - loss: 11125821.0000 - mse: 11125821.0000 - mae: 2615.3982 - val_loss: 12300507.0000 - val_mse: 12300507.0000 - val_mae: 2759.0647\n",
      "Epoch 11/100\n",
      "28/28 [==============================] - 0s 9ms/step - loss: 10830615.0000 - mse: 10830615.0000 - mae: 2561.4678 - val_loss: 12004889.0000 - val_mse: 12004889.0000 - val_mae: 2719.1826\n",
      "Epoch 12/100\n",
      "28/28 [==============================] - 0s 14ms/step - loss: 10548411.0000 - mse: 10548411.0000 - mae: 2527.4397 - val_loss: 11694373.0000 - val_mse: 11694373.0000 - val_mae: 2687.2007\n",
      "Epoch 13/100\n",
      "28/28 [==============================] - 1s 20ms/step - loss: 10262472.0000 - mse: 10262472.0000 - mae: 2498.3884 - val_loss: 11370842.0000 - val_mse: 11370842.0000 - val_mae: 2653.8987\n",
      "Epoch 14/100\n",
      "28/28 [==============================] - 0s 12ms/step - loss: 9974658.0000 - mse: 9974658.0000 - mae: 2468.0483 - val_loss: 11048283.0000 - val_mse: 11048283.0000 - val_mae: 2619.3611\n",
      "Epoch 15/100\n",
      "28/28 [==============================] - 0s 8ms/step - loss: 9698298.0000 - mse: 9698298.0000 - mae: 2435.9285 - val_loss: 10760348.0000 - val_mse: 10760348.0000 - val_mae: 2580.6216\n",
      "Epoch 16/100\n",
      "28/28 [==============================] - 0s 9ms/step - loss: 9458384.0000 - mse: 9458384.0000 - mae: 2396.8062 - val_loss: 10489635.0000 - val_mse: 10489635.0000 - val_mae: 2543.4685\n",
      "Epoch 17/100\n",
      "28/28 [==============================] - 0s 15ms/step - loss: 9234054.0000 - mse: 9234054.0000 - mae: 2368.7878 - val_loss: 10233946.0000 - val_mse: 10233946.0000 - val_mae: 2512.7429\n",
      "Epoch 18/100\n",
      "28/28 [==============================] - 0s 16ms/step - loss: 9026519.0000 - mse: 9026519.0000 - mae: 2342.8066 - val_loss: 9995409.0000 - val_mse: 9995409.0000 - val_mae: 2483.1064\n",
      "Epoch 19/100\n",
      "28/28 [==============================] - 0s 12ms/step - loss: 8826616.0000 - mse: 8826616.0000 - mae: 2317.2568 - val_loss: 9759100.0000 - val_mse: 9759100.0000 - val_mae: 2456.6909\n",
      "Epoch 20/100\n",
      "28/28 [==============================] - 0s 12ms/step - loss: 8630241.0000 - mse: 8630241.0000 - mae: 2295.3850 - val_loss: 9528321.0000 - val_mse: 9528321.0000 - val_mae: 2429.3523\n",
      "Epoch 21/100\n",
      "28/28 [==============================] - 0s 12ms/step - loss: 8445806.0000 - mse: 8445806.0000 - mae: 2271.3945 - val_loss: 9327939.0000 - val_mse: 9327939.0000 - val_mae: 2402.5310\n",
      "Epoch 22/100\n",
      "28/28 [==============================] - 0s 10ms/step - loss: 8292022.0000 - mse: 8292022.0000 - mae: 2247.5996 - val_loss: 9164501.0000 - val_mse: 9164501.0000 - val_mae: 2371.7439\n",
      "Epoch 23/100\n",
      "28/28 [==============================] - 0s 11ms/step - loss: 8176273.0000 - mse: 8176273.0000 - mae: 2220.2490 - val_loss: 9036566.0000 - val_mse: 9036566.0000 - val_mae: 2345.7634\n",
      "Epoch 24/100\n",
      "28/28 [==============================] - 0s 12ms/step - loss: 8075760.0000 - mse: 8075760.0000 - mae: 2203.5662 - val_loss: 8917956.0000 - val_mse: 8917956.0000 - val_mae: 2327.3945\n",
      "Epoch 25/100\n",
      "28/28 [==============================] - 1s 21ms/step - loss: 7975590.0000 - mse: 7975590.0000 - mae: 2187.3508 - val_loss: 8800485.0000 - val_mse: 8800485.0000 - val_mae: 2311.4031\n",
      "Epoch 26/100\n",
      "28/28 [==============================] - 0s 13ms/step - loss: 7871930.0000 - mse: 7871930.0000 - mae: 2174.6646 - val_loss: 8680014.0000 - val_mse: 8680014.0000 - val_mae: 2296.7622\n",
      "Epoch 27/100\n",
      "28/28 [==============================] - 0s 14ms/step - loss: 7771512.0000 - mse: 7771512.0000 - mae: 2158.8618 - val_loss: 8578161.0000 - val_mse: 8578161.0000 - val_mae: 2273.5625\n",
      "Epoch 28/100\n",
      "28/28 [==============================] - 0s 14ms/step - loss: 7678766.5000 - mse: 7678766.5000 - mae: 2141.5874 - val_loss: 8474134.0000 - val_mse: 8474134.0000 - val_mae: 2262.5024\n",
      "Epoch 29/100\n",
      "28/28 [==============================] - 0s 14ms/step - loss: 7584458.0000 - mse: 7584458.0000 - mae: 2132.8752 - val_loss: 8368254.5000 - val_mse: 8368254.5000 - val_mae: 2248.9019\n",
      "Epoch 30/100\n",
      "28/28 [==============================] - 0s 8ms/step - loss: 7488284.0000 - mse: 7488284.0000 - mae: 2120.6877 - val_loss: 8260868.0000 - val_mse: 8260868.0000 - val_mae: 2233.9648\n",
      "Epoch 31/100\n",
      "28/28 [==============================] - 0s 12ms/step - loss: 7390463.0000 - mse: 7390463.0000 - mae: 2107.8425 - val_loss: 8151473.5000 - val_mse: 8151473.5000 - val_mae: 2220.5117\n",
      "Epoch 32/100\n",
      "28/28 [==============================] - 0s 12ms/step - loss: 7291562.0000 - mse: 7291562.0000 - mae: 2094.5857 - val_loss: 8041479.0000 - val_mse: 8041479.0000 - val_mae: 2206.3137\n",
      "Epoch 33/100\n",
      "28/28 [==============================] - 0s 18ms/step - loss: 7192076.0000 - mse: 7192076.0000 - mae: 2080.9954 - val_loss: 7932685.5000 - val_mse: 7932685.0000 - val_mae: 2188.9524\n",
      "Epoch 34/100\n",
      "28/28 [==============================] - 0s 16ms/step - loss: 7092306.5000 - mse: 7092306.5000 - mae: 2066.7512 - val_loss: 7824337.0000 - val_mse: 7824337.0000 - val_mae: 2171.3462\n",
      "Epoch 35/100\n",
      "28/28 [==============================] - 0s 14ms/step - loss: 6992335.0000 - mse: 6992335.0000 - mae: 2051.3921 - val_loss: 7715826.5000 - val_mse: 7715826.5000 - val_mae: 2157.2917\n",
      "Epoch 36/100\n",
      "28/28 [==============================] - 0s 16ms/step - loss: 6892995.0000 - mse: 6892995.0000 - mae: 2037.7955 - val_loss: 7607871.5000 - val_mse: 7607871.5000 - val_mae: 2139.9976\n",
      "Epoch 37/100\n",
      "28/28 [==============================] - 0s 11ms/step - loss: 6795055.0000 - mse: 6795055.0000 - mae: 2021.5327 - val_loss: 7502617.5000 - val_mse: 7502617.5000 - val_mae: 2123.0083\n",
      "Epoch 38/100\n",
      "28/28 [==============================] - 0s 12ms/step - loss: 6698186.5000 - mse: 6698186.5000 - mae: 2004.8649 - val_loss: 7401001.0000 - val_mse: 7401001.0000 - val_mae: 2106.7664\n",
      "Epoch 39/100\n",
      "28/28 [==============================] - 0s 8ms/step - loss: 6603409.0000 - mse: 6603409.0000 - mae: 1991.8334 - val_loss: 7300652.0000 - val_mse: 7300652.0000 - val_mae: 2088.9446\n",
      "Epoch 40/100\n",
      "28/28 [==============================] - 0s 8ms/step - loss: 6511395.5000 - mse: 6511395.5000 - mae: 1974.6809 - val_loss: 7202468.0000 - val_mse: 7202468.0000 - val_mae: 2072.4717\n",
      "Epoch 41/100\n",
      "28/28 [==============================] - 0s 10ms/step - loss: 6422502.0000 - mse: 6422502.0000 - mae: 1957.9978 - val_loss: 7108194.0000 - val_mse: 7108194.0000 - val_mae: 2056.7866\n",
      "Epoch 42/100\n",
      "28/28 [==============================] - 0s 9ms/step - loss: 6337407.0000 - mse: 6337407.0000 - mae: 1942.6045 - val_loss: 7020921.0000 - val_mse: 7020920.0000 - val_mae: 2040.3939\n"
     ]
    },
    {
     "name": "stdout",
     "output_type": "stream",
     "text": [
      "Epoch 43/100\n",
      "28/28 [==============================] - 0s 12ms/step - loss: 6255844.0000 - mse: 6255844.0000 - mae: 1926.7494 - val_loss: 6937655.0000 - val_mse: 6937655.0000 - val_mae: 2026.0182\n",
      "Epoch 44/100\n",
      "28/28 [==============================] - 0s 11ms/step - loss: 6178319.0000 - mse: 6178319.0000 - mae: 1911.8134 - val_loss: 6858039.0000 - val_mse: 6858039.0000 - val_mae: 2012.1588\n",
      "Epoch 45/100\n",
      "28/28 [==============================] - 0s 9ms/step - loss: 6105185.0000 - mse: 6105185.0000 - mae: 1897.1091 - val_loss: 6783300.0000 - val_mse: 6783300.0000 - val_mae: 1998.0374\n",
      "Epoch 46/100\n",
      "28/28 [==============================] - 0s 11ms/step - loss: 6036906.0000 - mse: 6036906.0000 - mae: 1883.4978 - val_loss: 6712727.5000 - val_mse: 6712727.5000 - val_mae: 1984.9431\n",
      "Epoch 47/100\n",
      "28/28 [==============================] - 0s 13ms/step - loss: 5973493.0000 - mse: 5973493.0000 - mae: 1869.0349 - val_loss: 6648908.0000 - val_mse: 6648908.0000 - val_mae: 1971.2639\n",
      "Epoch 48/100\n",
      "28/28 [==============================] - 0s 8ms/step - loss: 5914520.5000 - mse: 5914520.5000 - mae: 1855.4937 - val_loss: 6589830.0000 - val_mse: 6589830.0000 - val_mae: 1959.7627\n",
      "Epoch 49/100\n",
      "28/28 [==============================] - 0s 16ms/step - loss: 5859707.5000 - mse: 5859707.5000 - mae: 1842.1086 - val_loss: 6535671.0000 - val_mse: 6535671.0000 - val_mae: 1946.6791\n",
      "Epoch 50/100\n",
      "28/28 [==============================] - 0s 14ms/step - loss: 5808644.5000 - mse: 5808644.5000 - mae: 1830.3416 - val_loss: 6485382.5000 - val_mse: 6485382.5000 - val_mae: 1940.5161\n",
      "Epoch 51/100\n",
      "28/28 [==============================] - 0s 11ms/step - loss: 5762991.0000 - mse: 5762991.0000 - mae: 1820.1782 - val_loss: 6439167.5000 - val_mse: 6439167.5000 - val_mae: 1928.8906\n",
      "Epoch 52/100\n",
      "28/28 [==============================] - 0s 14ms/step - loss: 5721666.5000 - mse: 5721666.5000 - mae: 1809.0563 - val_loss: 6399682.0000 - val_mse: 6399682.0000 - val_mae: 1917.6406\n",
      "Epoch 53/100\n",
      "28/28 [==============================] - 0s 8ms/step - loss: 5683940.5000 - mse: 5683940.5000 - mae: 1798.8895 - val_loss: 6363398.5000 - val_mse: 6363398.5000 - val_mae: 1909.8495\n",
      "Epoch 54/100\n",
      "28/28 [==============================] - 0s 10ms/step - loss: 5649348.5000 - mse: 5649348.5000 - mae: 1791.0199 - val_loss: 6330440.5000 - val_mse: 6330440.5000 - val_mae: 1902.1083\n",
      "Epoch 55/100\n",
      "28/28 [==============================] - 0s 17ms/step - loss: 5617800.0000 - mse: 5617800.0000 - mae: 1783.2289 - val_loss: 6300677.0000 - val_mse: 6300677.0000 - val_mae: 1895.7627\n",
      "Epoch 56/100\n",
      "28/28 [==============================] - 1s 20ms/step - loss: 5588551.5000 - mse: 5588551.5000 - mae: 1776.5500 - val_loss: 6274669.0000 - val_mse: 6274669.0000 - val_mae: 1889.4631\n",
      "Epoch 57/100\n",
      "28/28 [==============================] - 0s 13ms/step - loss: 5561892.0000 - mse: 5561892.0000 - mae: 1772.0940 - val_loss: 6252281.5000 - val_mse: 6252281.5000 - val_mae: 1884.3887\n",
      "Epoch 58/100\n",
      "28/28 [==============================] - 0s 9ms/step - loss: 5537096.5000 - mse: 5537096.5000 - mae: 1766.8918 - val_loss: 6232951.5000 - val_mse: 6232951.5000 - val_mae: 1879.7715\n",
      "Epoch 59/100\n",
      "28/28 [==============================] - 0s 15ms/step - loss: 5513876.5000 - mse: 5513876.5000 - mae: 1762.9819 - val_loss: 6215087.5000 - val_mse: 6215087.5000 - val_mae: 1877.1573\n",
      "Epoch 60/100\n",
      "28/28 [==============================] - 0s 9ms/step - loss: 5492218.0000 - mse: 5492218.0000 - mae: 1759.1989 - val_loss: 6199148.5000 - val_mse: 6199148.5000 - val_mae: 1873.5350\n",
      "Epoch 61/100\n",
      "28/28 [==============================] - 0s 9ms/step - loss: 5471738.0000 - mse: 5471738.0000 - mae: 1755.1353 - val_loss: 6185118.5000 - val_mse: 6185118.5000 - val_mae: 1870.5308\n",
      "Epoch 62/100\n",
      "28/28 [==============================] - 0s 9ms/step - loss: 5452361.0000 - mse: 5452361.0000 - mae: 1752.3440 - val_loss: 6171722.5000 - val_mse: 6171722.5000 - val_mae: 1865.9764\n",
      "Epoch 63/100\n",
      "28/28 [==============================] - 0s 12ms/step - loss: 5433855.0000 - mse: 5433855.0000 - mae: 1749.5864 - val_loss: 6161099.0000 - val_mse: 6161099.0000 - val_mae: 1864.6858\n",
      "Epoch 64/100\n",
      "28/28 [==============================] - 0s 10ms/step - loss: 5415977.5000 - mse: 5415977.5000 - mae: 1747.1105 - val_loss: 6150598.5000 - val_mse: 6150598.5000 - val_mae: 1861.5798\n",
      "Epoch 65/100\n",
      "28/28 [==============================] - 0s 15ms/step - loss: 5398768.0000 - mse: 5398768.0000 - mae: 1744.4615 - val_loss: 6140533.0000 - val_mse: 6140533.0000 - val_mae: 1858.7349\n",
      "Epoch 66/100\n",
      "28/28 [==============================] - 0s 9ms/step - loss: 5382008.0000 - mse: 5382008.0000 - mae: 1742.2234 - val_loss: 6132003.5000 - val_mse: 6132003.5000 - val_mae: 1856.3434\n",
      "Epoch 67/100\n",
      "28/28 [==============================] - 0s 14ms/step - loss: 5366097.0000 - mse: 5366097.0000 - mae: 1740.6544 - val_loss: 6121436.0000 - val_mse: 6121436.0000 - val_mae: 1853.8214\n",
      "Epoch 68/100\n",
      "28/28 [==============================] - 0s 13ms/step - loss: 5350399.0000 - mse: 5350399.0000 - mae: 1738.3124 - val_loss: 6113120.5000 - val_mse: 6113120.5000 - val_mae: 1851.8801\n",
      "Epoch 69/100\n",
      "28/28 [==============================] - 0s 14ms/step - loss: 5335039.0000 - mse: 5335039.0000 - mae: 1735.9628 - val_loss: 6106298.0000 - val_mse: 6106298.0000 - val_mae: 1849.9126\n",
      "Epoch 70/100\n",
      "28/28 [==============================] - 1s 24ms/step - loss: 5320031.5000 - mse: 5320031.5000 - mae: 1733.7507 - val_loss: 6100327.0000 - val_mse: 6100327.0000 - val_mae: 1848.0719\n",
      "Epoch 71/100\n",
      "28/28 [==============================] - 0s 14ms/step - loss: 5305274.5000 - mse: 5305274.5000 - mae: 1731.9198 - val_loss: 6092847.0000 - val_mse: 6092847.0000 - val_mae: 1849.0979\n",
      "Epoch 72/100\n",
      "28/28 [==============================] - 0s 13ms/step - loss: 5290864.0000 - mse: 5290864.0000 - mae: 1729.7433 - val_loss: 6087995.0000 - val_mse: 6087995.0000 - val_mae: 1847.4067\n",
      "Epoch 73/100\n",
      "28/28 [==============================] - 0s 11ms/step - loss: 5276840.0000 - mse: 5276840.0000 - mae: 1727.5902 - val_loss: 6083153.0000 - val_mse: 6083153.0000 - val_mae: 1845.7783\n",
      "Epoch 74/100\n",
      "28/28 [==============================] - 0s 13ms/step - loss: 5263089.0000 - mse: 5263089.0000 - mae: 1725.5050 - val_loss: 6078648.0000 - val_mse: 6078648.0000 - val_mae: 1844.5801\n",
      "Epoch 75/100\n",
      "28/28 [==============================] - 0s 11ms/step - loss: 5248197.0000 - mse: 5248197.0000 - mae: 1722.3270 - val_loss: 6074521.0000 - val_mse: 6074521.0000 - val_mae: 1842.7286\n",
      "Epoch 76/100\n",
      "28/28 [==============================] - 0s 15ms/step - loss: 5232022.0000 - mse: 5232022.0000 - mae: 1719.8378 - val_loss: 6064330.0000 - val_mse: 6064330.0000 - val_mae: 1840.1155\n",
      "Epoch 77/100\n",
      "28/28 [==============================] - 0s 9ms/step - loss: 5216024.5000 - mse: 5216024.5000 - mae: 1717.4736 - val_loss: 6055665.0000 - val_mse: 6055665.0000 - val_mae: 1837.3234\n",
      "Epoch 78/100\n",
      "28/28 [==============================] - 0s 16ms/step - loss: 5200098.5000 - mse: 5200098.5000 - mae: 1714.7200 - val_loss: 6045751.5000 - val_mse: 6045751.5000 - val_mae: 1834.9556\n",
      "Epoch 79/100\n",
      "28/28 [==============================] - 0s 17ms/step - loss: 5184456.5000 - mse: 5184456.5000 - mae: 1712.5273 - val_loss: 6037291.0000 - val_mse: 6037291.0000 - val_mae: 1832.3499\n",
      "Epoch 80/100\n",
      "28/28 [==============================] - 0s 11ms/step - loss: 5168997.0000 - mse: 5168997.0000 - mae: 1710.1378 - val_loss: 6028846.5000 - val_mse: 6028846.5000 - val_mae: 1830.0437\n",
      "Epoch 81/100\n",
      "28/28 [==============================] - 0s 13ms/step - loss: 5153726.0000 - mse: 5153726.0000 - mae: 1707.7561 - val_loss: 6019799.0000 - val_mse: 6019799.0000 - val_mae: 1827.8823\n",
      "Epoch 82/100\n",
      "28/28 [==============================] - 0s 14ms/step - loss: 5138724.0000 - mse: 5138724.0000 - mae: 1705.6583 - val_loss: 6011542.0000 - val_mse: 6011542.0000 - val_mae: 1825.4490\n",
      "Epoch 83/100\n",
      "28/28 [==============================] - 1s 18ms/step - loss: 5123974.0000 - mse: 5123974.0000 - mae: 1703.4694 - val_loss: 6003390.5000 - val_mse: 6003390.5000 - val_mae: 1823.1449\n",
      "Epoch 84/100\n",
      "28/28 [==============================] - 0s 7ms/step - loss: 5109497.0000 - mse: 5109497.0000 - mae: 1701.3673 - val_loss: 5995927.5000 - val_mse: 5995927.5000 - val_mae: 1820.7496\n",
      "Epoch 85/100\n"
     ]
    },
    {
     "name": "stdout",
     "output_type": "stream",
     "text": [
      "28/28 [==============================] - 0s 11ms/step - loss: 5095280.5000 - mse: 5095280.5000 - mae: 1699.0974 - val_loss: 5987929.0000 - val_mse: 5987929.0000 - val_mae: 1818.7340\n",
      "Epoch 86/100\n",
      "28/28 [==============================] - 0s 13ms/step - loss: 5080197.0000 - mse: 5080197.0000 - mae: 1695.8551 - val_loss: 5979266.5000 - val_mse: 5979266.5000 - val_mae: 1818.3672\n",
      "Epoch 87/100\n",
      "28/28 [==============================] - 0s 18ms/step - loss: 5063933.5000 - mse: 5063933.5000 - mae: 1693.7430 - val_loss: 5971518.5000 - val_mse: 5971518.5000 - val_mae: 1817.0505\n",
      "Epoch 88/100\n",
      "28/28 [==============================] - 0s 15ms/step - loss: 5048045.0000 - mse: 5048045.0000 - mae: 1691.3098 - val_loss: 5964172.5000 - val_mse: 5964172.5000 - val_mae: 1815.6937\n",
      "Epoch 89/100\n",
      "28/28 [==============================] - 0s 15ms/step - loss: 5032501.0000 - mse: 5032501.0000 - mae: 1688.8920 - val_loss: 5957064.0000 - val_mse: 5957064.0000 - val_mae: 1814.1854\n",
      "Epoch 90/100\n",
      "28/28 [==============================] - 0s 15ms/step - loss: 5017339.0000 - mse: 5017339.0000 - mae: 1686.5585 - val_loss: 5950761.0000 - val_mse: 5950761.0000 - val_mae: 1812.5839\n",
      "Epoch 91/100\n",
      "28/28 [==============================] - 0s 9ms/step - loss: 5002525.5000 - mse: 5002525.5000 - mae: 1683.9264 - val_loss: 5943262.0000 - val_mse: 5943262.0000 - val_mae: 1810.7714\n",
      "Epoch 92/100\n",
      "28/28 [==============================] - 0s 16ms/step - loss: 4988237.5000 - mse: 4988237.5000 - mae: 1682.1576 - val_loss: 5937642.5000 - val_mse: 5937642.5000 - val_mae: 1809.4047\n",
      "Epoch 93/100\n",
      "28/28 [==============================] - 0s 9ms/step - loss: 4974193.5000 - mse: 4974193.5000 - mae: 1679.6427 - val_loss: 5932044.5000 - val_mse: 5932045.0000 - val_mae: 1808.3936\n",
      "Epoch 94/100\n",
      "28/28 [==============================] - 0s 17ms/step - loss: 4960616.5000 - mse: 4960616.5000 - mae: 1677.4911 - val_loss: 5926905.5000 - val_mse: 5926905.5000 - val_mae: 1806.9547\n",
      "Epoch 95/100\n",
      "28/28 [==============================] - 0s 14ms/step - loss: 4947465.0000 - mse: 4947465.0000 - mae: 1675.5013 - val_loss: 5922005.0000 - val_mse: 5922005.0000 - val_mae: 1805.9464\n",
      "Epoch 96/100\n",
      "28/28 [==============================] - 0s 16ms/step - loss: 4934685.5000 - mse: 4934685.5000 - mae: 1673.3452 - val_loss: 5916918.0000 - val_mse: 5916918.0000 - val_mae: 1805.0125\n",
      "Epoch 97/100\n",
      "28/28 [==============================] - 0s 9ms/step - loss: 4922384.5000 - mse: 4922384.5000 - mae: 1671.4451 - val_loss: 5912561.0000 - val_mse: 5912561.0000 - val_mae: 1803.7972\n",
      "Epoch 98/100\n",
      "28/28 [==============================] - 0s 10ms/step - loss: 4910504.0000 - mse: 4910504.0000 - mae: 1669.4342 - val_loss: 5908431.5000 - val_mse: 5908431.5000 - val_mae: 1802.7449\n",
      "Epoch 99/100\n",
      "28/28 [==============================] - 0s 8ms/step - loss: 4899049.5000 - mse: 4899049.5000 - mae: 1667.5883 - val_loss: 5904567.0000 - val_mse: 5904567.5000 - val_mae: 1801.8016\n",
      "Epoch 100/100\n",
      "28/28 [==============================] - 0s 7ms/step - loss: 4888060.5000 - mse: 4888060.5000 - mae: 1665.9247 - val_loss: 5901149.5000 - val_mse: 5901149.5000 - val_mae: 1800.9364\n"
     ]
    },
    {
     "name": "stderr",
     "output_type": "stream",
     "text": [
      "INFO:tensorflow:Assets written to: C:\\Users\\Ekubay\\AppData\\Local\\Temp\\tmpzwlplw7s\\model\\data\\model\\assets\n"
     ]
    }
   ],
   "source": [
    "model=model_dnn(look_back)\n",
    "\n",
    "history=model.fit(trainX, trainY, epochs=100, batch_size=30, verbose=1, \n",
    "                  validation_data=(testX,testY),callbacks=[EarlyStopping(monitor='val_loss', \n",
    "                                                                         patience=10)], shuffle=False)"
   ]
  },
  {
   "cell_type": "markdown",
   "id": "082e6617",
   "metadata": {},
   "source": [
    "### Step 4: Model evaluation"
   ]
  },
  {
   "cell_type": "code",
   "execution_count": 298,
   "id": "07546efc",
   "metadata": {},
   "outputs": [],
   "source": [
    " def model_loss(history):\n",
    "    plt.figure(figsize=(8,4))\n",
    "    plt.plot(history.history['loss'], label='Train Loss')\n",
    "    plt.plot(history.history['val_loss'], label='Test Loss')\n",
    "    plt.title('model loss')\n",
    "    plt.ylabel('loss')\n",
    "    plt.xlabel('epochs')\n",
    "    plt.legend(loc='upper right')\n",
    "    plt.show();"
   ]
  },
  {
   "cell_type": "code",
   "execution_count": null,
   "id": "711da1b6",
   "metadata": {},
   "outputs": [],
   "source": []
  },
  {
   "cell_type": "code",
   "execution_count": 299,
   "id": "41075997",
   "metadata": {},
   "outputs": [
    {
     "name": "stdout",
     "output_type": "stream",
     "text": [
      "4/4 [==============================] - 0s 2ms/step\n",
      "Train Root Mean Squared Error(RMSE): 2207.07; Train Mean Absolute Error(MAE) : 1651.78 \n",
      "Test Root Mean Squared Error(RMSE): 2429.23; Test Mean Absolute Error(MAE) : 1800.94 \n"
     ]
    },
    {
     "data": {
      "image/png": "[encoded data removed]",
      "text/plain": [
       "<Figure size 576x288 with 1 Axes>"
      ]
     },
     "metadata": {
      "needs_background": "light"
     },
     "output_type": "display_data"
    }
   ],
   "source": [
    "train_score = model.evaluate(trainX, trainY, verbose=0)\n",
    "test_predict = model.predict(testX)\n",
    "\n",
    "print('Train Root Mean Squared Error(RMSE): %.2f; Train Mean Absolute Error(MAE) : %.2f ' \n",
    "% (np.sqrt(train_score[1]), train_score[2]))\n",
    "test_score = model.evaluate(testX, testY, verbose=0)\n",
    "print('Test Root Mean Squared Error(RMSE): %.2f; Test Mean Absolute Error(MAE) : %.2f ' \n",
    "% (np.sqrt(test_score[1]), test_score[2]))\n",
    "model_loss(history)"
   ]
  },
  {
   "cell_type": "markdown",
   "id": "04c05696",
   "metadata": {},
   "source": [
    "**Print out error metrics and generate model loss plot.**"
   ]
  },
  {
   "cell_type": "markdown",
   "id": "13789995",
   "metadata": {},
   "source": [
    "From the graph above, obviously we overfitted our model since the model almost didn’t do anything after 40 epochs."
   ]
  },
  {
   "cell_type": "code",
   "execution_count": 300,
   "id": "ae60e38a",
   "metadata": {},
   "outputs": [
    {
     "name": "stderr",
     "output_type": "stream",
     "text": [
      "INFO:tensorflow:Assets written to: ../models/DNN_sales-2022-09-09-19-12-42.pkl\\assets\n"
     ]
    }
   ],
   "source": [
    "from time import gmtime, strftime\n",
    "time = strftime(\"%Y-%m-%d-%H-%M-%S\", gmtime())\n",
    "model.save(f'../models/DNN_sales-{time}.pkl')"
   ]
  },
  {
   "cell_type": "code",
   "execution_count": null,
   "id": "5cf458af",
   "metadata": {},
   "outputs": [],
   "source": []
  },
  {
   "cell_type": "markdown",
   "id": "9c016675",
   "metadata": {},
   "source": [
    "### Step 5. Visualizing Prediction"
   ]
  },
  {
   "cell_type": "code",
   "execution_count": 317,
   "id": "03657923",
   "metadata": {},
   "outputs": [],
   "source": [
    "def prediction_plot(testY, test_predict):\n",
    "    len_prediction=[x for x in range(len(testY))]\n",
    "    plt.figure(figsize=(8,4))\n",
    "    plt.plot(len_prediction, testY[:], marker='.', label=\"actual\")\n",
    "    plt.plot(len_prediction, test_predict[:], 'r', label=\"prediction\")\n",
    "    plt.tight_layout()\n",
    "    sns.despine(top=True)\n",
    "    plt.subplots_adjust(left=0.07)\n",
    "    plt.ylabel('Sales', size=15)\n",
    "    plt.xlabel('Dates', size=15)\n",
    "    plt.legend(fontsize=15)\n",
    "    plt.show();"
   ]
  },
  {
   "cell_type": "code",
   "execution_count": 318,
   "id": "b4be7147",
   "metadata": {},
   "outputs": [
    {
     "data": {
      "image/png": "[encoded data removed]",
      "text/plain": [
       "<Figure size 576x288 with 1 Axes>"
      ]
     },
     "metadata": {
      "needs_background": "light"
     },
     "output_type": "display_data"
    }
   ],
   "source": [
    "prediction_plot(testY, test_predict)"
   ]
  },
  {
   "cell_type": "markdown",
   "id": "ba6f0fd2",
   "metadata": {},
   "source": [
    "**From the plot, even though it misses some peaks and troughs, but it’s able to capture the overall trends and seasonality without any parameter tuning or normalization preprocessing.**"
   ]
  },
  {
   "cell_type": "markdown",
   "id": "6c27574e",
   "metadata": {},
   "source": [
    "## Model 2: RNN\n",
    "RNN(Recurrent Neural Network) handles sequences which is different from a fully connected DNN showed previously.\n",
    "\n",
    "The key idea here: time-series datasets are sequences."
   ]
  },
  {
   "cell_type": "markdown",
   "id": "d450c9ff",
   "metadata": {},
   "source": [
    "### Step 1: Data Preprocessing\n",
    "- RNN input shape: (batch_size, window size, input_features)\n",
    "- Import helper function to create matrix"
   ]
  },
  {
   "cell_type": "code",
   "execution_count": 322,
   "id": "31e383be",
   "metadata": {},
   "outputs": [],
   "source": [
    "def convert2matrix(data_arr, look_back):\n",
    "    X, Y =[], []\n",
    "    for i in range(len(data_arr)-look_back):\n",
    "        d=i+look_back  \n",
    "        X.append(data_arr[i:d,])\n",
    "        Y.append(data_arr[d,])\n",
    "    return np.array(X), np.array(Y)"
   ]
  },
  {
   "cell_type": "code",
   "execution_count": 323,
   "id": "e7f6a5d6",
   "metadata": {},
   "outputs": [],
   "source": [
    "train_size = 842\n",
    "train,test = sales_df.values[0:train_size,:], sales_df.values[train_size:len(sales_df.values),:]\n",
    "look_back = 30 #create window size as look_back=30\n",
    "test = np.append(test,np.repeat(test[-1,], look_back))\n",
    "train = np.append(train,np.repeat(train[-1,],look_back))\n",
    "trainX,trainY =convert2matrix(train,look_back)\n",
    "testX,testY =convert2matrix(test, look_back)\n",
    "# reshape input to be [samples, window size, features]\n",
    "trainX = np.reshape(trainX, (trainX.shape[0], 1, trainX.shape[1]))\n",
    "testX = np.reshape(testX, (testX.shape[0], 1, testX.shape[1]))"
   ]
  },
  {
   "cell_type": "markdown",
   "id": "0deb0a36",
   "metadata": {},
   "source": [
    "### Step 2: Define neural network shape and compile model\n",
    "\n",
    "Built a RNN model with two hidden layers."
   ]
  },
  {
   "cell_type": "code",
   "execution_count": 324,
   "id": "63507200",
   "metadata": {},
   "outputs": [],
   "source": [
    "from keras.models import Sequential\n",
    "from keras.layers import Dense, SimpleRNN\n",
    "from keras.callbacks import EarlyStopping\n",
    "def model_rnn(look_back):\n",
    "    model=Sequential()\n",
    "    model.add(SimpleRNN(units=32, input_shape=(1,look_back), activation=\"relu\"))\n",
    "    model.add(Dense(8, activation='relu'))\n",
    "    model.add(Dense(1))\n",
    "    model.compile(loss='mean_squared_error',  optimizer='adam',metrics = ['mse', 'mae'])\n",
    "    return model"
   ]
  },
  {
   "cell_type": "markdown",
   "id": "92ffb06d",
   "metadata": {},
   "source": [
    "### Step 3: Fit Model"
   ]
  },
  {
   "cell_type": "code",
   "execution_count": 325,
   "id": "579bc984",
   "metadata": {},
   "outputs": [
    {
     "name": "stderr",
     "output_type": "stream",
     "text": [
      "2022/09/09 22:27:51 INFO mlflow.utils.autologging_utils: Created MLflow autologging run with ID 'b2e39c4205274a1bb98cbb46adbc82a6', which will track hyperparameters, performance metrics, model artifacts, and lineage information for the current tensorflow workflow\n"
     ]
    },
    {
     "name": "stdout",
     "output_type": "stream",
     "text": [
      "Epoch 1/100\n",
      " 1/29 [>.............................] - ETA: 26s - loss: 37272792.0000 - mse: 37272792.0000 - mae: 5643.5127"
     ]
    },
    {
     "name": "stderr",
     "output_type": "stream",
     "text": [
      "WARNING:tensorflow:Callback method `on_train_batch_end` is slow compared to the batch time (batch time: 0.0047s vs `on_train_batch_end` time: 0.0189s). Check your callbacks.\n"
     ]
    },
    {
     "name": "stdout",
     "output_type": "stream",
     "text": [
      "29/29 [==============================] - 2s 28ms/step - loss: 18954920.0000 - mse: 18954920.0000 - mae: 3478.1223 - val_loss: 10138290.0000 - val_mse: 10138290.0000 - val_mae: 2499.1174\n",
      "Epoch 2/100\n",
      "29/29 [==============================] - 0s 11ms/step - loss: 9074443.0000 - mse: 9074443.0000 - mae: 2309.2986 - val_loss: 6478343.5000 - val_mse: 6478343.5000 - val_mae: 1928.5813\n",
      "Epoch 3/100\n",
      "29/29 [==============================] - 0s 15ms/step - loss: 5413091.0000 - mse: 5413091.0000 - mae: 1720.5156 - val_loss: 4953994.0000 - val_mse: 4953994.0000 - val_mae: 1663.1829\n",
      "Epoch 4/100\n",
      "29/29 [==============================] - 0s 10ms/step - loss: 3699158.2500 - mse: 3699158.2500 - mae: 1406.7786 - val_loss: 4428832.5000 - val_mse: 4428832.5000 - val_mae: 1495.9178\n",
      "Epoch 5/100\n",
      "29/29 [==============================] - 0s 14ms/step - loss: 3025411.2500 - mse: 3025411.2500 - mae: 1239.8687 - val_loss: 4280258.5000 - val_mse: 4280258.5000 - val_mae: 1386.9556\n",
      "Epoch 6/100\n",
      "29/29 [==============================] - 0s 8ms/step - loss: 2767316.2500 - mse: 2767316.2500 - mae: 1151.0779 - val_loss: 4183563.0000 - val_mse: 4183563.0000 - val_mae: 1329.8733\n",
      "Epoch 7/100\n",
      "29/29 [==============================] - 0s 16ms/step - loss: 2631043.2500 - mse: 2631043.2500 - mae: 1104.5277 - val_loss: 4055536.7500 - val_mse: 4055536.7500 - val_mae: 1280.3347\n",
      "Epoch 8/100\n",
      "29/29 [==============================] - 0s 13ms/step - loss: 2531185.5000 - mse: 2531185.5000 - mae: 1072.9838 - val_loss: 3947529.5000 - val_mse: 3947529.5000 - val_mae: 1245.5673\n",
      "Epoch 9/100\n",
      "29/29 [==============================] - 0s 11ms/step - loss: 2445457.2500 - mse: 2445457.2500 - mae: 1046.4318 - val_loss: 3838834.0000 - val_mse: 3838834.0000 - val_mae: 1215.5355\n",
      "Epoch 10/100\n",
      "29/29 [==============================] - 0s 14ms/step - loss: 2367993.2500 - mse: 2367993.2500 - mae: 1024.2063 - val_loss: 3726979.2500 - val_mse: 3726979.2500 - val_mae: 1194.8860\n",
      "Epoch 11/100\n",
      "29/29 [==============================] - 0s 12ms/step - loss: 2294156.0000 - mse: 2294156.0000 - mae: 1005.6246 - val_loss: 3613979.0000 - val_mse: 3613979.0000 - val_mae: 1168.5880\n",
      "Epoch 12/100\n",
      "29/29 [==============================] - 0s 13ms/step - loss: 2228366.7500 - mse: 2228366.7500 - mae: 986.9581 - val_loss: 3523848.2500 - val_mse: 3523848.2500 - val_mae: 1140.6117\n",
      "Epoch 13/100\n",
      "29/29 [==============================] - 0s 13ms/step - loss: 2167923.0000 - mse: 2167923.0000 - mae: 967.0756 - val_loss: 3444339.0000 - val_mse: 3444339.0000 - val_mae: 1116.1140\n",
      "Epoch 14/100\n",
      "29/29 [==============================] - 0s 9ms/step - loss: 2120300.0000 - mse: 2120300.0000 - mae: 948.7205 - val_loss: 3418557.0000 - val_mse: 3418557.0000 - val_mae: 1105.4703\n",
      "Epoch 15/100\n",
      "29/29 [==============================] - 0s 10ms/step - loss: 2081973.5000 - mse: 2081973.5000 - mae: 932.6593 - val_loss: 3378701.7500 - val_mse: 3378701.7500 - val_mae: 1092.4240\n",
      "Epoch 16/100\n",
      "29/29 [==============================] - 0s 7ms/step - loss: 2047999.3750 - mse: 2047999.3750 - mae: 919.2356 - val_loss: 3336538.2500 - val_mse: 3336538.2500 - val_mae: 1078.1913\n",
      "Epoch 17/100\n",
      "29/29 [==============================] - 0s 8ms/step - loss: 2015689.8750 - mse: 2015689.8750 - mae: 906.2380 - val_loss: 3316219.0000 - val_mse: 3316219.0000 - val_mae: 1071.5022\n",
      "Epoch 18/100\n",
      "29/29 [==============================] - 0s 12ms/step - loss: 1988143.3750 - mse: 1988143.3750 - mae: 895.0196 - val_loss: 3315151.7500 - val_mse: 3315151.7500 - val_mae: 1069.0105\n",
      "Epoch 19/100\n",
      "29/29 [==============================] - 0s 11ms/step - loss: 1962880.8750 - mse: 1962880.8750 - mae: 884.1229 - val_loss: 3275058.5000 - val_mse: 3275058.5000 - val_mae: 1057.7483\n",
      "Epoch 20/100\n",
      "29/29 [==============================] - 0s 14ms/step - loss: 1939060.0000 - mse: 1939060.0000 - mae: 874.3936 - val_loss: 3274435.7500 - val_mse: 3274435.7500 - val_mae: 1056.4475\n",
      "Epoch 21/100\n",
      "29/29 [==============================] - 0s 14ms/step - loss: 1917233.5000 - mse: 1917233.5000 - mae: 865.6122 - val_loss: 3238492.5000 - val_mse: 3238492.5000 - val_mae: 1046.4250\n",
      "Epoch 22/100\n",
      "29/29 [==============================] - 0s 17ms/step - loss: 1895718.2500 - mse: 1895718.2500 - mae: 857.1603 - val_loss: 3234483.7500 - val_mse: 3234483.7500 - val_mae: 1044.3295\n",
      "Epoch 23/100\n",
      "29/29 [==============================] - 0s 13ms/step - loss: 1875944.7500 - mse: 1875944.7500 - mae: 849.2229 - val_loss: 3201263.0000 - val_mse: 3201263.0000 - val_mae: 1036.5060\n",
      "Epoch 24/100\n",
      "29/29 [==============================] - 0s 8ms/step - loss: 1857729.1250 - mse: 1857729.1250 - mae: 841.9601 - val_loss: 3194669.0000 - val_mse: 3194669.0000 - val_mae: 1032.9149\n",
      "Epoch 25/100\n",
      "29/29 [==============================] - 0s 12ms/step - loss: 1839767.3750 - mse: 1839767.3750 - mae: 834.9508 - val_loss: 3162659.0000 - val_mse: 3162659.0000 - val_mae: 1023.1841\n",
      "Epoch 26/100\n",
      "29/29 [==============================] - 0s 16ms/step - loss: 1822167.8750 - mse: 1822167.8750 - mae: 827.8780 - val_loss: 3170659.0000 - val_mse: 3170659.0000 - val_mae: 1026.7927\n",
      "Epoch 27/100\n",
      "29/29 [==============================] - 0s 12ms/step - loss: 1805069.3750 - mse: 1805069.3750 - mae: 822.0605 - val_loss: 3137610.2500 - val_mse: 3137610.2500 - val_mae: 1020.7209\n",
      "Epoch 28/100\n",
      "29/29 [==============================] - 0s 13ms/step - loss: 1789902.5000 - mse: 1789902.5000 - mae: 817.5511 - val_loss: 3138905.2500 - val_mse: 3138905.2500 - val_mae: 1020.3829\n",
      "Epoch 29/100\n",
      "29/29 [==============================] - 0s 17ms/step - loss: 1775599.6250 - mse: 1775599.6250 - mae: 811.8190 - val_loss: 3116956.7500 - val_mse: 3116956.7500 - val_mae: 1010.0109\n",
      "Epoch 30/100\n",
      "29/29 [==============================] - 0s 16ms/step - loss: 1760793.7500 - mse: 1760793.7500 - mae: 806.1255 - val_loss: 3123034.5000 - val_mse: 3123034.5000 - val_mae: 1011.8739\n",
      "Epoch 31/100\n",
      "29/29 [==============================] - 0s 13ms/step - loss: 1746506.7500 - mse: 1746506.7500 - mae: 801.8717 - val_loss: 3087886.0000 - val_mse: 3087886.0000 - val_mae: 1002.7735\n",
      "Epoch 32/100\n",
      "29/29 [==============================] - 0s 15ms/step - loss: 1732699.0000 - mse: 1732699.0000 - mae: 797.0873 - val_loss: 3083671.2500 - val_mse: 3083671.2500 - val_mae: 1001.6103\n",
      "Epoch 33/100\n",
      "29/29 [==============================] - 0s 11ms/step - loss: 1720324.2500 - mse: 1720324.2500 - mae: 793.4848 - val_loss: 3050667.5000 - val_mse: 3050667.5000 - val_mae: 992.9888\n",
      "Epoch 34/100\n",
      "29/29 [==============================] - 0s 11ms/step - loss: 1704977.0000 - mse: 1704977.0000 - mae: 788.6682 - val_loss: 3047155.5000 - val_mse: 3047155.5000 - val_mae: 993.0717\n",
      "Epoch 35/100\n",
      "29/29 [==============================] - 0s 16ms/step - loss: 1694680.1250 - mse: 1694680.1250 - mae: 785.8794 - val_loss: 3024559.0000 - val_mse: 3024559.0000 - val_mae: 982.4161\n",
      "Epoch 36/100\n",
      "29/29 [==============================] - 0s 13ms/step - loss: 1680098.6250 - mse: 1680098.6250 - mae: 781.0345 - val_loss: 3001071.2500 - val_mse: 3001071.2500 - val_mae: 976.9041\n",
      "Epoch 37/100\n",
      "29/29 [==============================] - 0s 13ms/step - loss: 1668667.2500 - mse: 1668667.2500 - mae: 778.1480 - val_loss: 2989133.5000 - val_mse: 2989133.5000 - val_mae: 972.1355\n",
      "Epoch 38/100\n",
      "29/29 [==============================] - 0s 12ms/step - loss: 1657525.3750 - mse: 1657525.3750 - mae: 775.6319 - val_loss: 2969832.7500 - val_mse: 2969832.7500 - val_mae: 966.2190\n",
      "Epoch 39/100\n",
      "29/29 [==============================] - 0s 15ms/step - loss: 1646443.1250 - mse: 1646443.1250 - mae: 771.6176 - val_loss: 2958781.0000 - val_mse: 2958781.0000 - val_mae: 962.7681\n",
      "Epoch 40/100\n",
      "29/29 [==============================] - 0s 10ms/step - loss: 1636608.8750 - mse: 1636608.8750 - mae: 768.7018 - val_loss: 2946192.0000 - val_mse: 2946192.0000 - val_mae: 960.4941\n",
      "Epoch 41/100\n",
      "29/29 [==============================] - 0s 12ms/step - loss: 1625509.8750 - mse: 1625509.8750 - mae: 765.9454 - val_loss: 2940715.7500 - val_mse: 2940715.7500 - val_mae: 962.2001\n",
      "Epoch 42/100\n",
      "29/29 [==============================] - 0s 12ms/step - loss: 1617223.6250 - mse: 1617223.6250 - mae: 764.0941 - val_loss: 2930108.7500 - val_mse: 2930108.7500 - val_mae: 957.7341\n",
      "Epoch 43/100\n"
     ]
    },
    {
     "name": "stdout",
     "output_type": "stream",
     "text": [
      "29/29 [==============================] - 0s 16ms/step - loss: 1604864.8750 - mse: 1604864.8750 - mae: 760.0820 - val_loss: 2909169.5000 - val_mse: 2909169.5000 - val_mae: 958.6122\n",
      "Epoch 44/100\n",
      "29/29 [==============================] - 0s 10ms/step - loss: 1597635.6250 - mse: 1597635.6250 - mae: 759.9640 - val_loss: 2916241.2500 - val_mse: 2916241.2500 - val_mae: 957.7424\n",
      "Epoch 45/100\n",
      "29/29 [==============================] - 1s 18ms/step - loss: 1585485.3750 - mse: 1585485.3750 - mae: 755.0694 - val_loss: 2894145.2500 - val_mse: 2894145.2500 - val_mae: 955.1470\n",
      "Epoch 46/100\n",
      "29/29 [==============================] - 0s 11ms/step - loss: 1576141.3750 - mse: 1576141.3750 - mae: 753.2884 - val_loss: 2884346.2500 - val_mse: 2884346.2500 - val_mae: 954.1801\n",
      "Epoch 47/100\n",
      "29/29 [==============================] - 0s 16ms/step - loss: 1566410.7500 - mse: 1566410.7500 - mae: 749.7863 - val_loss: 2881605.7500 - val_mse: 2881605.7500 - val_mae: 953.4582\n",
      "Epoch 48/100\n",
      "29/29 [==============================] - 0s 15ms/step - loss: 1556807.0000 - mse: 1556807.0000 - mae: 746.1237 - val_loss: 2873087.2500 - val_mse: 2873087.2500 - val_mae: 951.9482\n",
      "Epoch 49/100\n",
      "29/29 [==============================] - 0s 13ms/step - loss: 1546959.7500 - mse: 1546959.7500 - mae: 744.3383 - val_loss: 2872036.2500 - val_mse: 2872036.2500 - val_mae: 954.1116\n",
      "Epoch 50/100\n",
      "29/29 [==============================] - 0s 13ms/step - loss: 1539108.5000 - mse: 1539108.5000 - mae: 743.4050 - val_loss: 2851758.7500 - val_mse: 2851758.7500 - val_mae: 949.5540\n",
      "Epoch 51/100\n",
      "29/29 [==============================] - 0s 16ms/step - loss: 1530029.0000 - mse: 1530029.0000 - mae: 740.3025 - val_loss: 2850445.7500 - val_mse: 2850445.7500 - val_mae: 949.3667\n",
      "Epoch 52/100\n",
      "29/29 [==============================] - 0s 10ms/step - loss: 1519988.8750 - mse: 1519988.8750 - mae: 737.8533 - val_loss: 2834011.0000 - val_mse: 2834011.0000 - val_mae: 948.4274\n",
      "Epoch 53/100\n",
      "29/29 [==============================] - 0s 10ms/step - loss: 1511791.2500 - mse: 1511791.1250 - mae: 735.7095 - val_loss: 2833447.0000 - val_mse: 2833446.7500 - val_mae: 944.9085\n",
      "Epoch 54/100\n",
      "29/29 [==============================] - 0s 13ms/step - loss: 1504443.2500 - mse: 1504443.2500 - mae: 733.2257 - val_loss: 2818597.0000 - val_mse: 2818597.0000 - val_mae: 944.6091\n",
      "Epoch 55/100\n",
      "29/29 [==============================] - 0s 8ms/step - loss: 1495911.1250 - mse: 1495911.1250 - mae: 730.7161 - val_loss: 2805444.2500 - val_mse: 2805444.2500 - val_mae: 943.2156\n",
      "Epoch 56/100\n",
      "29/29 [==============================] - 0s 6ms/step - loss: 1486947.7500 - mse: 1486947.7500 - mae: 728.7390 - val_loss: 2791445.7500 - val_mse: 2791445.7500 - val_mae: 940.3148\n",
      "Epoch 57/100\n",
      "29/29 [==============================] - 0s 6ms/step - loss: 1479498.6250 - mse: 1479498.6250 - mae: 726.6717 - val_loss: 2801004.7500 - val_mse: 2801004.7500 - val_mae: 940.6342\n",
      "Epoch 58/100\n",
      "29/29 [==============================] - 0s 7ms/step - loss: 1470585.6250 - mse: 1470585.6250 - mae: 724.4417 - val_loss: 2784745.2500 - val_mse: 2784745.2500 - val_mae: 936.2195\n",
      "Epoch 59/100\n",
      "29/29 [==============================] - 0s 8ms/step - loss: 1461645.2500 - mse: 1461645.2500 - mae: 720.2238 - val_loss: 2773978.2500 - val_mse: 2773978.2500 - val_mae: 935.0370\n",
      "Epoch 60/100\n",
      "29/29 [==============================] - 0s 9ms/step - loss: 1454260.2500 - mse: 1454260.2500 - mae: 719.2144 - val_loss: 2761542.7500 - val_mse: 2761542.7500 - val_mae: 934.6591\n",
      "Epoch 61/100\n",
      "29/29 [==============================] - 0s 10ms/step - loss: 1447202.5000 - mse: 1447202.5000 - mae: 717.2987 - val_loss: 2765280.0000 - val_mse: 2765280.0000 - val_mae: 933.8254\n",
      "Epoch 62/100\n",
      "29/29 [==============================] - 0s 16ms/step - loss: 1438526.7500 - mse: 1438526.7500 - mae: 714.5269 - val_loss: 2746472.2500 - val_mse: 2746472.2500 - val_mae: 931.0293\n",
      "Epoch 63/100\n",
      "29/29 [==============================] - 0s 13ms/step - loss: 1432623.3750 - mse: 1432623.3750 - mae: 712.2343 - val_loss: 2739771.2500 - val_mse: 2739771.2500 - val_mae: 924.1834\n",
      "Epoch 64/100\n",
      "29/29 [==============================] - 0s 15ms/step - loss: 1423837.6250 - mse: 1423837.6250 - mae: 709.1758 - val_loss: 2715235.5000 - val_mse: 2715235.5000 - val_mae: 927.7419\n",
      "Epoch 65/100\n",
      "29/29 [==============================] - 0s 17ms/step - loss: 1418626.8750 - mse: 1418626.8750 - mae: 708.4345 - val_loss: 2724733.7500 - val_mse: 2724733.7500 - val_mae: 924.4653\n",
      "Epoch 66/100\n",
      "29/29 [==============================] - 0s 15ms/step - loss: 1409963.8750 - mse: 1409963.8750 - mae: 705.5319 - val_loss: 2707229.5000 - val_mse: 2707229.5000 - val_mae: 924.1298\n",
      "Epoch 67/100\n",
      "29/29 [==============================] - 0s 16ms/step - loss: 1404368.7500 - mse: 1404368.7500 - mae: 702.9732 - val_loss: 2704403.5000 - val_mse: 2704403.5000 - val_mae: 920.9677\n",
      "Epoch 68/100\n",
      "29/29 [==============================] - 0s 11ms/step - loss: 1398078.7500 - mse: 1398078.7500 - mae: 703.6923 - val_loss: 2690462.7500 - val_mse: 2690462.7500 - val_mae: 922.6807\n",
      "Epoch 69/100\n",
      "29/29 [==============================] - 0s 13ms/step - loss: 1391269.8750 - mse: 1391269.8750 - mae: 699.5229 - val_loss: 2696484.7500 - val_mse: 2696484.7500 - val_mae: 920.7754\n",
      "Epoch 70/100\n",
      "29/29 [==============================] - 0s 12ms/step - loss: 1382200.2500 - mse: 1382200.2500 - mae: 697.1901 - val_loss: 2661343.0000 - val_mse: 2661343.0000 - val_mae: 919.1746\n",
      "Epoch 71/100\n",
      "29/29 [==============================] - 0s 14ms/step - loss: 1381798.0000 - mse: 1381798.0000 - mae: 696.6460 - val_loss: 2687313.0000 - val_mse: 2687313.0000 - val_mae: 917.5034\n",
      "Epoch 72/100\n",
      "29/29 [==============================] - 0s 17ms/step - loss: 1370753.6250 - mse: 1370753.6250 - mae: 693.3060 - val_loss: 2655259.2500 - val_mse: 2655259.2500 - val_mae: 915.3127\n",
      "Epoch 73/100\n",
      "29/29 [==============================] - 0s 14ms/step - loss: 1367794.3750 - mse: 1367794.3750 - mae: 693.0319 - val_loss: 2647131.7500 - val_mse: 2647131.7500 - val_mae: 910.9239\n",
      "Epoch 74/100\n",
      "29/29 [==============================] - 0s 11ms/step - loss: 1357517.2500 - mse: 1357517.2500 - mae: 687.9745 - val_loss: 2616822.0000 - val_mse: 2616822.0000 - val_mae: 907.8758\n",
      "Epoch 75/100\n",
      "29/29 [==============================] - 0s 12ms/step - loss: 1352251.1250 - mse: 1352251.1250 - mae: 688.5954 - val_loss: 2621327.5000 - val_mse: 2621327.5000 - val_mae: 908.8610\n",
      "Epoch 76/100\n",
      "29/29 [==============================] - 0s 8ms/step - loss: 1343710.8750 - mse: 1343710.8750 - mae: 682.5910 - val_loss: 2585759.7500 - val_mse: 2585759.7500 - val_mae: 903.3686\n",
      "Epoch 77/100\n",
      "29/29 [==============================] - 0s 13ms/step - loss: 1337887.3750 - mse: 1337887.3750 - mae: 683.8790 - val_loss: 2587080.7500 - val_mse: 2587080.7500 - val_mae: 910.2651\n",
      "Epoch 78/100\n",
      "29/29 [==============================] - 0s 10ms/step - loss: 1333640.8750 - mse: 1333640.8750 - mae: 682.0094 - val_loss: 2596885.5000 - val_mse: 2596885.5000 - val_mae: 903.6097\n",
      "Epoch 79/100\n",
      "29/29 [==============================] - 0s 11ms/step - loss: 1327264.1250 - mse: 1327264.1250 - mae: 680.8536 - val_loss: 2596816.7500 - val_mse: 2596816.7500 - val_mae: 903.7436\n",
      "Epoch 80/100\n",
      "29/29 [==============================] - 0s 13ms/step - loss: 1320816.0000 - mse: 1320816.0000 - mae: 677.5700 - val_loss: 2559462.0000 - val_mse: 2559462.0000 - val_mae: 898.7039\n",
      "Epoch 81/100\n",
      "29/29 [==============================] - 0s 12ms/step - loss: 1314076.8750 - mse: 1314076.8750 - mae: 675.5844 - val_loss: 2580669.5000 - val_mse: 2580669.5000 - val_mae: 903.0173\n",
      "Epoch 82/100\n",
      "29/29 [==============================] - 0s 16ms/step - loss: 1309276.1250 - mse: 1309276.1250 - mae: 673.7512 - val_loss: 2576158.0000 - val_mse: 2576158.0000 - val_mae: 904.9363\n",
      "Epoch 83/100\n",
      "29/29 [==============================] - 0s 12ms/step - loss: 1304723.5000 - mse: 1304723.5000 - mae: 673.6263 - val_loss: 2593584.2500 - val_mse: 2593584.2500 - val_mae: 902.9270\n",
      "Epoch 84/100\n",
      "29/29 [==============================] - 0s 13ms/step - loss: 1299613.6250 - mse: 1299613.6250 - mae: 672.0821 - val_loss: 2572488.7500 - val_mse: 2572488.7500 - val_mae: 898.4265\n",
      "Epoch 85/100\n"
     ]
    },
    {
     "name": "stdout",
     "output_type": "stream",
     "text": [
      "29/29 [==============================] - 0s 15ms/step - loss: 1293050.8750 - mse: 1293050.8750 - mae: 670.2699 - val_loss: 2550765.0000 - val_mse: 2550765.0000 - val_mae: 895.6406\n",
      "Epoch 86/100\n",
      "29/29 [==============================] - 1s 19ms/step - loss: 1286896.6250 - mse: 1286896.6250 - mae: 668.4465 - val_loss: 2565201.5000 - val_mse: 2565201.5000 - val_mae: 897.1041\n",
      "Epoch 87/100\n",
      "29/29 [==============================] - 0s 15ms/step - loss: 1283954.0000 - mse: 1283954.0000 - mae: 668.4918 - val_loss: 2564806.5000 - val_mse: 2564806.5000 - val_mae: 896.7095\n",
      "Epoch 88/100\n",
      "29/29 [==============================] - 0s 17ms/step - loss: 1277373.8750 - mse: 1277373.8750 - mae: 666.2368 - val_loss: 2560388.7500 - val_mse: 2560388.7500 - val_mae: 892.8119\n",
      "Epoch 89/100\n",
      "29/29 [==============================] - 0s 11ms/step - loss: 1272988.0000 - mse: 1272988.0000 - mae: 663.8465 - val_loss: 2540642.5000 - val_mse: 2540642.5000 - val_mae: 895.1739\n",
      "Epoch 90/100\n",
      "29/29 [==============================] - 0s 12ms/step - loss: 1268020.1250 - mse: 1268020.1250 - mae: 661.8589 - val_loss: 2577361.0000 - val_mse: 2577361.0000 - val_mae: 894.8848\n",
      "Epoch 91/100\n",
      "29/29 [==============================] - 0s 14ms/step - loss: 1263593.6250 - mse: 1263593.6250 - mae: 661.2208 - val_loss: 2536252.7500 - val_mse: 2536252.7500 - val_mae: 892.2731\n",
      "Epoch 92/100\n",
      "29/29 [==============================] - 0s 17ms/step - loss: 1257427.1250 - mse: 1257427.1250 - mae: 659.5873 - val_loss: 2536536.7500 - val_mse: 2536536.7500 - val_mae: 892.8038\n",
      "Epoch 93/100\n",
      "29/29 [==============================] - 0s 15ms/step - loss: 1254133.5000 - mse: 1254133.5000 - mae: 658.9186 - val_loss: 2526377.2500 - val_mse: 2526377.2500 - val_mae: 885.8141\n",
      "Epoch 94/100\n",
      "29/29 [==============================] - 0s 16ms/step - loss: 1248035.7500 - mse: 1248035.7500 - mae: 655.9805 - val_loss: 2519659.2500 - val_mse: 2519659.2500 - val_mae: 889.8613\n",
      "Epoch 95/100\n",
      "29/29 [==============================] - 0s 9ms/step - loss: 1245253.8750 - mse: 1245253.8750 - mae: 655.0210 - val_loss: 2549065.0000 - val_mse: 2549065.0000 - val_mae: 891.4794\n",
      "Epoch 96/100\n",
      "29/29 [==============================] - 0s 16ms/step - loss: 1240971.3750 - mse: 1240971.3750 - mae: 654.7934 - val_loss: 2534943.0000 - val_mse: 2534943.0000 - val_mae: 890.4387\n",
      "Epoch 97/100\n",
      "29/29 [==============================] - 0s 11ms/step - loss: 1235429.2500 - mse: 1235429.2500 - mae: 653.1871 - val_loss: 2514955.2500 - val_mse: 2514955.2500 - val_mae: 890.1227\n",
      "Epoch 98/100\n",
      "29/29 [==============================] - 0s 7ms/step - loss: 1233619.6250 - mse: 1233619.6250 - mae: 652.2322 - val_loss: 2499661.5000 - val_mse: 2499661.5000 - val_mae: 885.4166\n",
      "Epoch 99/100\n",
      "29/29 [==============================] - 0s 10ms/step - loss: 1228458.1250 - mse: 1228458.1250 - mae: 650.8613 - val_loss: 2492731.0000 - val_mse: 2492731.0000 - val_mae: 883.1131\n",
      "Epoch 100/100\n",
      "29/29 [==============================] - 0s 13ms/step - loss: 1223559.2500 - mse: 1223559.2500 - mae: 648.1573 - val_loss: 2473250.0000 - val_mse: 2473250.0000 - val_mae: 882.4249\n"
     ]
    },
    {
     "name": "stderr",
     "output_type": "stream",
     "text": [
      "INFO:tensorflow:Assets written to: C:\\Users\\Ekubay\\AppData\\Local\\Temp\\tmped250dnu\\model\\data\\model\\assets\n"
     ]
    }
   ],
   "source": [
    "model=model_rnn(look_back)\n",
    "\n",
    "history=model.fit(trainX,trainY, epochs=100, batch_size=30, verbose=1, validation_data=(testX,testY),\n",
    "                  callbacks=[EarlyStopping(monitor='val_loss', patience=10)],shuffle=False)"
   ]
  },
  {
   "cell_type": "markdown",
   "id": "5fdd7f5c",
   "metadata": {},
   "source": [
    "### Step 4: Model Evaluation\n",
    "Print out error metrics and generate model loss plot."
   ]
  },
  {
   "cell_type": "code",
   "execution_count": 330,
   "id": "9d4f497e",
   "metadata": {},
   "outputs": [],
   "source": [
    "from sklearn.metrics import mean_squared_error\n",
    "from sklearn.metrics import mean_absolute_error"
   ]
  },
  {
   "cell_type": "code",
   "execution_count": 332,
   "id": "16ae12c3",
   "metadata": {},
   "outputs": [
    {
     "name": "stdout",
     "output_type": "stream",
     "text": [
      "27/27 [==============================] - 0s 1ms/step\n",
      "4/4 [==============================] - 0s 2ms/step\n",
      "Train Root Mean Squared Error(RMSE): 1092.96; train Mean Absolute Error(MAE) : 642.61 \n",
      "Test Root Mean Squared Error(RMSE): 1572.66; test Mean Absolute Error(MAE) : 882.42 \n"
     ]
    },
    {
     "data": {
      "image/png": "[encoded data removed]",
      "text/plain": [
       "<Figure size 576x288 with 1 Axes>"
      ]
     },
     "metadata": {
      "needs_background": "light"
     },
     "output_type": "display_data"
    }
   ],
   "source": [
    "train_predict = model.predict(trainX)\n",
    "test_predict = model.predict(testX)\n",
    "print('Train Root Mean Squared Error(RMSE): %.2f; train Mean Absolute Error(MAE) : %.2f '\n",
    "      % (np.sqrt(mean_squared_error(trainY, train_predict[:,0])), mean_absolute_error(trainY, train_predict[:,0])))\n",
    "print('Test Root Mean Squared Error(RMSE): %.2f; test Mean Absolute Error(MAE) : %.2f ' \n",
    "      % (np.sqrt(mean_squared_error(testY, test_predict[:,0])), mean_absolute_error(testY, test_predict[:,0])))\n",
    "model_loss(history)"
   ]
  },
  {
   "cell_type": "markdown",
   "id": "220ddcba",
   "metadata": {},
   "source": [
    "### Step 5. Visualizing Prediction"
   ]
  },
  {
   "cell_type": "code",
   "execution_count": null,
   "id": "b995fb4f",
   "metadata": {},
   "outputs": [],
   "source": []
  },
  {
   "cell_type": "code",
   "execution_count": 351,
   "id": "ace7e94c",
   "metadata": {},
   "outputs": [],
   "source": [
    "def prediction_plot(testY, test_predict, look_back):\n",
    "    len_prediction=[x for x in range(len(testY))]\n",
    "    plt.figure(figsize=(8,4))\n",
    "    plt.plot(len_prediction, testY[:], marker='.', label=\"actual\")\n",
    "    plt.plot(len_prediction, test_predict[:], 'g', label=\"prediction\")\n",
    "    plt.tight_layout()\n",
    "    sns.despine(top=True)\n",
    "    plt.subplots_adjust(left=0.07)\n",
    "    plt.ylabel('Sales', size=15)\n",
    "    plt.xlabel('Dates', size=15)\n",
    "    plt.legend(fontsize=15)\n",
    "    plt.show();"
   ]
  },
  {
   "cell_type": "code",
   "execution_count": 352,
   "id": "753b8711",
   "metadata": {},
   "outputs": [
    {
     "data": {
      "image/png": "[encoded data removed]",
      "text/plain": [
       "<Figure size 576x288 with 1 Axes>"
      ]
     },
     "metadata": {
      "needs_background": "light"
     },
     "output_type": "display_data"
    }
   ],
   "source": [
    "prediction_plot(testY, test_predict, look_back)"
   ]
  },
  {
   "cell_type": "markdown",
   "id": "47b25150",
   "metadata": {},
   "source": [
    "**In general, the prediction looks good with a smaller test errors. Even though it misses some peaks and troughs, but it’s able to capture the overall trends and seasonality.**"
   ]
  },
  {
   "cell_type": "code",
   "execution_count": null,
   "id": "12866fbd",
   "metadata": {},
   "outputs": [],
   "source": []
  },
  {
   "cell_type": "code",
   "execution_count": null,
   "id": "3a9e2687",
   "metadata": {},
   "outputs": [],
   "source": []
  },
  {
   "cell_type": "code",
   "execution_count": 208,
   "id": "1267540c",
   "metadata": {},
   "outputs": [],
   "source": [
    "import tensorflow_addons as tfa"
   ]
  },
  {
   "cell_type": "code",
   "execution_count": 267,
   "id": "d50e5e50",
   "metadata": {},
   "outputs": [],
   "source": [
    "# model RNN\n",
    "from keras.callbacks import EarlyStopping, ModelCheckpoint\n",
    "from keras.layers import Dense, Dropout, Input\n",
    "from keras.models import Sequential\n",
    "import tensorflow_addons as tfa\n",
    "\n",
    "\n",
    "# Builds the RNN model.\n",
    "def build_model(input_shape, layers, show_summary=True):\n",
    "    model = Sequential()\n",
    "    model.add(Input(shape=input_shape))\n",
    "    for layer in layers:\n",
    "        model.add(layer)\n",
    "\n",
    "    model.compile(optimizer=tfa.optimizers.Yogi(learning_rate=0.001), loss='huber')\n",
    "\n",
    "    if show_summary:\n",
    "        model.summary()\n",
    "\n",
    "    return model\n",
    "\n",
    "\n",
    "# Fits the data into RNN.\n",
    "def train(model, name, x_train, y_train, epochs=200, batch_size=32):\n",
    "    checkpoint = ModelCheckpoint(filepath='weights/' + name + '_callback.h5',\n",
    "                                 monitor='loss',\n",
    "                                 mode='min',\n",
    "                                 save_best_only=True,\n",
    "                                 verbose=1)\n",
    "    early_stopping = EarlyStopping(monitor='loss',\n",
    "                                   min_delta=0,\n",
    "                                   patience=25,\n",
    "                                   verbose=1,\n",
    "                                   restore_best_weights=True)\n",
    "\n",
    "    model_callbacks = [checkpoint, early_stopping]\n",
    "\n",
    "    history = model.fit(x=x_train, y=y_train, batch_size=batch_size, epochs=epochs, callbacks=model_callbacks, verbose=1)\n",
    "    return model, history"
   ]
  },
  {
   "cell_type": "markdown",
   "id": "341b3938",
   "metadata": {},
   "source": [
    "## Model 3: LSTM — one member of RNN families\n",
    "LSTM(Long short-term memory), constructed by four main components: Input Gate, Output Gate, Memory Cell and Forget Gate"
   ]
  },
  {
   "cell_type": "code",
   "execution_count": 167,
   "id": "25a645a3",
   "metadata": {},
   "outputs": [],
   "source": [
    "import numpy as np\n",
    "import pandas as pd\n",
    "import sys\n",
    "import mlflow\n",
    "import warnings\n",
    "import pickle\n",
    "import matplotlib.pyplot as plt\n",
    "from matplotlib.gridspec import GridSpec\n",
    "from matplotlib import ticker\n",
    "from statsmodels.tsa.stattools import adfuller, acf, pacf\n",
    "from sklearn.preprocessing import MinMaxScaler\n",
    "from sklearn.preprocessing import StandardScaler\n",
    "import tensorflow as tf\n",
    "from tensorflow.keras.models import Sequential\n",
    "from tensorflow.keras.layers import Dense\n",
    "from tensorflow.keras.layers import LSTM"
   ]
  },
  {
   "cell_type": "markdown",
   "id": "6cb19f5d",
   "metadata": {},
   "source": [
    "## Step1: Data Preprocessing:\n",
    "LSTMs are sensitive to the scale of the input data. During the Preprocessing step, I applied MinMaxScaler preprocessing class from the scikit-learn module to normalize/rescale dataset."
   ]
  },
  {
   "cell_type": "code",
   "execution_count": null,
   "id": "debd687b",
   "metadata": {},
   "outputs": [],
   "source": [
    "def convert2matrix(data_arr, look_back):\n",
    "    X, Y =[], []\n",
    "    for i in range(len(data_arr)-look_back):\n",
    "    d=i+look_back  \n",
    "    X.append(data_arr[i:d,])\n",
    "    Y.append(data_arr[d,])\n",
    "    return np.array(X), np.array(Y)"
   ]
  },
  {
   "cell_type": "code",
   "execution_count": 172,
   "id": "4242629e",
   "metadata": {},
   "outputs": [],
   "source": [
    "sales_df = df_train.groupby(\"Dates\").agg({\"Sales\": \"mean\"})"
   ]
  },
  {
   "cell_type": "code",
   "execution_count": 174,
   "id": "ea4db060",
   "metadata": {
    "scrolled": false
   },
   "outputs": [
    {
     "data": {
      "text/plain": [
       "(942, 1)"
      ]
     },
     "execution_count": 174,
     "metadata": {},
     "output_type": "execute_result"
    }
   ],
   "source": [
    "sales_df.shape"
   ]
  },
  {
   "cell_type": "code",
   "execution_count": 180,
   "id": "7f6608e2",
   "metadata": {},
   "outputs": [],
   "source": [
    "scaler = StandardScaler()\n",
    "scaled_array = scaler.fit_transform(sales_df)\n",
    "data['DataScaled'] = scaled_array"
   ]
  },
  {
   "cell_type": "code",
   "execution_count": 181,
   "id": "928809bf",
   "metadata": {},
   "outputs": [],
   "source": [
    "SIZE = len(data.DataScaled)\n",
    "WINDOW_SIZE = 48\n",
    "BATCH_SIZE = SIZE - WINDOW_SIZE * 2\n",
    "EPOCHS = 200"
   ]
  },
  {
   "cell_type": "code",
   "execution_count": 182,
   "id": "2015c890",
   "metadata": {},
   "outputs": [],
   "source": [
    "DateTrain = data.index.values[0:BATCH_SIZE]\n",
    "DateValid = data.index.values[BATCH_SIZE:]\n",
    "XTrain = data.DataScaled.values[0:BATCH_SIZE].astype('float32')\n",
    "XValid = data.DataScaled.values[BATCH_SIZE:].astype('float32')"
   ]
  },
  {
   "cell_type": "code",
   "execution_count": 183,
   "id": "fc594e26",
   "metadata": {
    "scrolled": true
   },
   "outputs": [
    {
     "name": "stdout",
     "output_type": "stream",
     "text": [
      "Shape of the training set date series:  (846, 1)\n",
      "Shape of the validation set date series:  (96, 1)\n",
      "\n",
      "Shape of the training set logarithm of sales series:  (846,)\n",
      "Shape of the validation set logarithm of sales series in a stateless LSTM:  (96,)\n"
     ]
    }
   ],
   "source": [
    "# Obtain shapes for vectors of size (,1) for dates series\n",
    "\n",
    "DateTrain = np.reshape(DateTrain, (-1, 1))\n",
    "DateValid = np.reshape(DateValid, (-1, 1))\n",
    "\n",
    "print(\"Shape of the training set date series: \", DateTrain.shape)\n",
    "print(\"Shape of the validation set date series: \", DateValid.shape)\n",
    "print()\n",
    "print(\"Shape of the training set logarithm of sales series: \", XTrain.shape)\n",
    "print(\"Shape of the validation set logarithm of sales series in a stateless LSTM: \", XValid.shape)"
   ]
  },
  {
   "cell_type": "code",
   "execution_count": 184,
   "id": "dad0a69f",
   "metadata": {},
   "outputs": [
    {
     "data": {
      "text/plain": [
       "TensorShape([846, 1])"
      ]
     },
     "execution_count": 184,
     "metadata": {},
     "output_type": "execute_result"
    }
   ],
   "source": [
    "tf.random.set_seed(1234)\n",
    "# add extra dimension\n",
    "series = tf.expand_dims(XTrain, axis=-1)\n",
    "series.shape"
   ]
  },
  {
   "cell_type": "code",
   "execution_count": 185,
   "id": "f7d345a7",
   "metadata": {
    "scrolled": true
   },
   "outputs": [
    {
     "data": {
      "text/plain": [
       "<TensorSliceDataset element_spec=TensorSpec(shape=(1,), dtype=tf.float32, name=None)>"
      ]
     },
     "execution_count": 185,
     "metadata": {},
     "output_type": "execute_result"
    }
   ],
   "source": [
    "# create tensor from each individual element\n",
    "dataset = tf.data.Dataset.from_tensor_slices(series)\n",
    "dataset"
   ]
  },
  {
   "cell_type": "code",
   "execution_count": 186,
   "id": "81197d38",
   "metadata": {},
   "outputs": [],
   "source": [
    "# takes a window_size + 1 chunk from the slices\n",
    "dataset = dataset.window(WINDOW_SIZE + 1, shift=1, drop_remainder=True)"
   ]
  },
  {
   "cell_type": "code",
   "execution_count": 187,
   "id": "020df52b",
   "metadata": {},
   "outputs": [
    {
     "name": "stdout",
     "output_type": "stream",
     "text": [
      "[0, 1, 2, 3, 4]\n",
      "[1, 2, 3, 4, 5]\n",
      "[2, 3, 4, 5, 6]\n",
      "[3, 4, 5, 6, 7]\n",
      "[4, 5, 6, 7, 8]\n",
      "[5, 6, 7, 8, 9]\n"
     ]
    }
   ],
   "source": [
    "# Example of Window\n",
    "datasetEx = tf.data.Dataset.from_tensor_slices(tf.range(10))\n",
    "datasetEx = datasetEx.window(5, shift=1, drop_remainder=True)\n",
    "for window in datasetEx:\n",
    "    print([elem.numpy() for elem in window])"
   ]
  },
  {
   "cell_type": "code",
   "execution_count": 188,
   "id": "d71205c4",
   "metadata": {},
   "outputs": [],
   "source": [
    "dataset = dataset.flat_map(lambda window: window.batch(WINDOW_SIZE + 1))"
   ]
  },
  {
   "cell_type": "code",
   "execution_count": 189,
   "id": "a20c264e",
   "metadata": {},
   "outputs": [],
   "source": [
    "dataset = dataset.map(lambda window: (window[:-1], window[-1:]))"
   ]
  },
  {
   "cell_type": "code",
   "execution_count": 190,
   "id": "41cdde66",
   "metadata": {},
   "outputs": [],
   "source": [
    "dataset = dataset.batch(BATCH_SIZE).prefetch(1)"
   ]
  },
  {
   "cell_type": "code",
   "execution_count": 191,
   "id": "a606a4b9",
   "metadata": {},
   "outputs": [],
   "source": [
    "def windowed_dataset(series, window_size=WINDOW_SIZE, batch_size=BATCH_SIZE):\n",
    "  series = tf.expand_dims(series, axis=-1)\n",
    "  dataset = tf.data.Dataset.from_tensor_slices(series)\n",
    "  dataset = dataset.window(window_size + 1, shift=1, drop_remainder=True)\n",
    "  dataset = dataset.flat_map(lambda window: window.batch(window_size + 1))\n",
    "  dataset = dataset.map(lambda window: (window[:-1], window[-1:]))\n",
    "  dataset = dataset.batch(batch_size).prefetch(1)\n",
    "  return dataset"
   ]
  },
  {
   "cell_type": "code",
   "execution_count": 192,
   "id": "0db6a4b3",
   "metadata": {},
   "outputs": [],
   "source": [
    "DatasetTrain = windowed_dataset(XTrain)\n",
    "DatasetVal = windowed_dataset(XValid)"
   ]
  },
  {
   "cell_type": "markdown",
   "id": "7d04d681",
   "metadata": {},
   "source": [
    "## Model training "
   ]
  },
  {
   "cell_type": "code",
   "execution_count": 236,
   "id": "4c2fb699",
   "metadata": {},
   "outputs": [],
   "source": [
    "model = Sequential()\n",
    "model.add(LSTM(8, input_shape=[None, 1], return_sequences=True))\n",
    "model.add(LSTM(4, input_shape=[None, 1]))\n",
    "model.add(Dense(1))\n",
    "model.compile(loss=\"huber_loss\", optimizer='adam')"
   ]
  },
  {
   "cell_type": "code",
   "execution_count": 194,
   "id": "ae7fd79a",
   "metadata": {},
   "outputs": [
    {
     "name": "stdout",
     "output_type": "stream",
     "text": [
      "Model: \"sequential_8\"\n",
      "_________________________________________________________________\n",
      " Layer (type)                Output Shape              Param #   \n",
      "=================================================================\n",
      " lstm (LSTM)                 (None, None, 8)           320       \n",
      "                                                                 \n",
      " lstm_1 (LSTM)               (None, 4)                 208       \n",
      "                                                                 \n",
      " dense_24 (Dense)            (None, 1)                 5         \n",
      "                                                                 \n",
      "=================================================================\n",
      "Total params: 533\n",
      "Trainable params: 533\n",
      "Non-trainable params: 0\n",
      "_________________________________________________________________\n"
     ]
    }
   ],
   "source": [
    "model.summary()"
   ]
  },
  {
   "cell_type": "code",
   "execution_count": 195,
   "id": "74d35b65",
   "metadata": {},
   "outputs": [
    {
     "name": "stderr",
     "output_type": "stream",
     "text": [
      "2022/09/09 20:35:53 INFO mlflow.tracking.fluent: Experiment with name 'LSTM' does not exist. Creating a new experiment.\n",
      "2022/09/09 20:35:53 WARNING mlflow.utils.autologging_utils: You are using an unsupported version of tensorflow. If you encounter errors during autologging, try upgrading / downgrading tensorflow to a supported version, or try upgrading MLflow.\n",
      "2022/09/09 20:36:00 INFO mlflow.utils.autologging_utils: Created MLflow autologging run with ID 'b127bdd57ef4457e9cc32430b44d3ed6', which will track hyperparameters, performance metrics, model artifacts, and lineage information for the current tensorflow workflow\n"
     ]
    },
    {
     "name": "stdout",
     "output_type": "stream",
     "text": [
      "Epoch 1/200\n",
      "1/1 [==============================] - 16s 16s/step - loss: 0.4114 - val_loss: 0.3969\n",
      "Epoch 2/200\n",
      "1/1 [==============================] - 1s 1s/step - loss: 0.4103 - val_loss: 0.3953\n",
      "Epoch 3/200\n",
      "1/1 [==============================] - 1s 1s/step - loss: 0.4092 - val_loss: 0.3937\n",
      "Epoch 4/200\n",
      "1/1 [==============================] - 1s 1s/step - loss: 0.4082 - val_loss: 0.3922\n",
      "Epoch 5/200\n",
      "1/1 [==============================] - 1s 1s/step - loss: 0.4072 - val_loss: 0.3907\n",
      "Epoch 6/200\n",
      "1/1 [==============================] - 1s 1s/step - loss: 0.4062 - val_loss: 0.3893\n",
      "Epoch 7/200\n",
      "1/1 [==============================] - 1s 1s/step - loss: 0.4053 - val_loss: 0.3878\n",
      "Epoch 8/200\n",
      "1/1 [==============================] - 1s 1s/step - loss: 0.4045 - val_loss: 0.3864\n",
      "Epoch 9/200\n",
      "1/1 [==============================] - 1s 1s/step - loss: 0.4036 - val_loss: 0.3851\n",
      "Epoch 10/200\n",
      "1/1 [==============================] - 1s 507ms/step - loss: 0.4029 - val_loss: 0.3837\n",
      "Epoch 11/200\n",
      "1/1 [==============================] - 1s 641ms/step - loss: 0.4021 - val_loss: 0.3824\n",
      "Epoch 12/200\n",
      "1/1 [==============================] - 1s 573ms/step - loss: 0.4015 - val_loss: 0.3812\n",
      "Epoch 13/200\n",
      "1/1 [==============================] - 0s 493ms/step - loss: 0.4008 - val_loss: 0.3800\n",
      "Epoch 14/200\n",
      "1/1 [==============================] - 1s 786ms/step - loss: 0.4002 - val_loss: 0.3788\n",
      "Epoch 15/200\n",
      "1/1 [==============================] - 1s 582ms/step - loss: 0.3997 - val_loss: 0.3777\n",
      "Epoch 16/200\n",
      "1/1 [==============================] - 0s 445ms/step - loss: 0.3992 - val_loss: 0.3767\n",
      "Epoch 17/200\n",
      "1/1 [==============================] - 1s 1s/step - loss: 0.3988 - val_loss: 0.3757\n",
      "Epoch 18/200\n",
      "1/1 [==============================] - 1s 635ms/step - loss: 0.3984 - val_loss: 0.3748\n",
      "Epoch 19/200\n",
      "1/1 [==============================] - 1s 962ms/step - loss: 0.3981 - val_loss: 0.3740\n",
      "Epoch 20/200\n",
      "1/1 [==============================] - 1s 877ms/step - loss: 0.3978 - val_loss: 0.3732\n",
      "Epoch 21/200\n",
      "1/1 [==============================] - 1s 950ms/step - loss: 0.3976 - val_loss: 0.3726\n",
      "Epoch 22/200\n",
      "1/1 [==============================] - 1s 757ms/step - loss: 0.3974 - val_loss: 0.3719\n",
      "Epoch 23/200\n",
      "1/1 [==============================] - 1s 956ms/step - loss: 0.3972 - val_loss: 0.3714\n",
      "Epoch 24/200\n",
      "1/1 [==============================] - 1s 811ms/step - loss: 0.3970 - val_loss: 0.3709\n",
      "Epoch 25/200\n",
      "1/1 [==============================] - 1s 890ms/step - loss: 0.3969 - val_loss: 0.3704\n",
      "Epoch 26/200\n",
      "1/1 [==============================] - 1s 959ms/step - loss: 0.3967 - val_loss: 0.3701\n",
      "Epoch 27/200\n",
      "1/1 [==============================] - 1s 697ms/step - loss: 0.3966 - val_loss: 0.3697\n",
      "Epoch 28/200\n",
      "1/1 [==============================] - 1s 938ms/step - loss: 0.3964 - val_loss: 0.3695\n",
      "Epoch 29/200\n",
      "1/1 [==============================] - 1s 757ms/step - loss: 0.3963 - val_loss: 0.3693\n",
      "Epoch 30/200\n",
      "1/1 [==============================] - 1s 569ms/step - loss: 0.3961 - val_loss: 0.3691\n",
      "Epoch 31/200\n",
      "1/1 [==============================] - 1s 501ms/step - loss: 0.3959 - val_loss: 0.3689\n",
      "Epoch 32/200\n",
      "1/1 [==============================] - 1s 571ms/step - loss: 0.3958 - val_loss: 0.3688\n",
      "Epoch 33/200\n",
      "1/1 [==============================] - 1s 514ms/step - loss: 0.3956 - val_loss: 0.3687\n",
      "Epoch 34/200\n",
      "1/1 [==============================] - 1s 836ms/step - loss: 0.3954 - val_loss: 0.3687\n",
      "Epoch 35/200\n",
      "1/1 [==============================] - 1s 674ms/step - loss: 0.3952 - val_loss: 0.3687\n",
      "Epoch 36/200\n",
      "1/1 [==============================] - 1s 621ms/step - loss: 0.3951 - val_loss: 0.3687\n",
      "Epoch 37/200\n",
      "1/1 [==============================] - 1s 856ms/step - loss: 0.3949 - val_loss: 0.3687\n",
      "Epoch 38/200\n",
      "1/1 [==============================] - 1s 825ms/step - loss: 0.3947 - val_loss: 0.3687\n",
      "Epoch 39/200\n",
      "1/1 [==============================] - 1s 668ms/step - loss: 0.3946 - val_loss: 0.3687\n",
      "Epoch 40/200\n",
      "1/1 [==============================] - 1s 904ms/step - loss: 0.3944 - val_loss: 0.3688\n",
      "Epoch 41/200\n",
      "1/1 [==============================] - 1s 522ms/step - loss: 0.3943 - val_loss: 0.3688\n",
      "Epoch 42/200\n",
      "1/1 [==============================] - 1s 878ms/step - loss: 0.3941 - val_loss: 0.3688\n",
      "Epoch 43/200\n",
      "1/1 [==============================] - 1s 802ms/step - loss: 0.3940 - val_loss: 0.3688\n",
      "Epoch 44/200\n",
      "1/1 [==============================] - 1s 862ms/step - loss: 0.3939 - val_loss: 0.3688\n",
      "Epoch 45/200\n",
      "1/1 [==============================] - 1s 1s/step - loss: 0.3937 - val_loss: 0.3688\n",
      "Epoch 46/200\n",
      "1/1 [==============================] - 1s 697ms/step - loss: 0.3936 - val_loss: 0.3688\n",
      "Epoch 47/200\n",
      "1/1 [==============================] - 1s 600ms/step - loss: 0.3935 - val_loss: 0.3687\n",
      "Epoch 48/200\n",
      "1/1 [==============================] - 1s 738ms/step - loss: 0.3933 - val_loss: 0.3686\n",
      "Epoch 49/200\n",
      "1/1 [==============================] - 1s 889ms/step - loss: 0.3932 - val_loss: 0.3685\n",
      "Epoch 50/200\n",
      "1/1 [==============================] - 0s 354ms/step - loss: 0.3931 - val_loss: 0.3684\n",
      "Epoch 51/200\n",
      "1/1 [==============================] - 0s 424ms/step - loss: 0.3929 - val_loss: 0.3683\n",
      "Epoch 52/200\n",
      "1/1 [==============================] - 1s 505ms/step - loss: 0.3928 - val_loss: 0.3681\n",
      "Epoch 53/200\n",
      "1/1 [==============================] - 0s 393ms/step - loss: 0.3927 - val_loss: 0.3679\n",
      "Epoch 54/200\n",
      "1/1 [==============================] - 1s 882ms/step - loss: 0.3925 - val_loss: 0.3678\n",
      "Epoch 55/200\n",
      "1/1 [==============================] - 1s 980ms/step - loss: 0.3924 - val_loss: 0.3676\n",
      "Epoch 56/200\n",
      "1/1 [==============================] - 1s 662ms/step - loss: 0.3922 - val_loss: 0.3674\n",
      "Epoch 57/200\n",
      "1/1 [==============================] - 1s 864ms/step - loss: 0.3921 - val_loss: 0.3671\n",
      "Epoch 58/200\n",
      "1/1 [==============================] - 1s 617ms/step - loss: 0.3920 - val_loss: 0.3669\n",
      "Epoch 59/200\n",
      "1/1 [==============================] - 1s 673ms/step - loss: 0.3918 - val_loss: 0.3667\n",
      "Epoch 60/200\n",
      "1/1 [==============================] - 1s 900ms/step - loss: 0.3917 - val_loss: 0.3665\n",
      "Epoch 61/200\n",
      "1/1 [==============================] - 1s 666ms/step - loss: 0.3915 - val_loss: 0.3663\n",
      "Epoch 62/200\n",
      "1/1 [==============================] - 1s 717ms/step - loss: 0.3914 - val_loss: 0.3661\n",
      "Epoch 63/200\n",
      "1/1 [==============================] - 1s 912ms/step - loss: 0.3913 - val_loss: 0.3659\n",
      "Epoch 64/200\n",
      "1/1 [==============================] - 0s 393ms/step - loss: 0.3911 - val_loss: 0.3658\n",
      "Epoch 65/200\n",
      "1/1 [==============================] - 1s 596ms/step - loss: 0.3910 - val_loss: 0.3656\n",
      "Epoch 66/200\n",
      "1/1 [==============================] - 0s 295ms/step - loss: 0.3908 - val_loss: 0.3655\n",
      "Epoch 67/200\n",
      "1/1 [==============================] - 0s 469ms/step - loss: 0.3907 - val_loss: 0.3654\n",
      "Epoch 68/200\n",
      "1/1 [==============================] - 1s 516ms/step - loss: 0.3905 - val_loss: 0.3653\n",
      "Epoch 69/200\n",
      "1/1 [==============================] - 1s 552ms/step - loss: 0.3904 - val_loss: 0.3652\n",
      "Epoch 70/200\n",
      "1/1 [==============================] - 1s 804ms/step - loss: 0.3902 - val_loss: 0.3651\n",
      "Epoch 71/200\n",
      "1/1 [==============================] - 1s 667ms/step - loss: 0.3901 - val_loss: 0.3650\n",
      "Epoch 72/200\n",
      "1/1 [==============================] - 0s 359ms/step - loss: 0.3899 - val_loss: 0.3650\n",
      "Epoch 73/200\n",
      "1/1 [==============================] - 1s 826ms/step - loss: 0.3898 - val_loss: 0.3650\n",
      "Epoch 74/200\n",
      "1/1 [==============================] - 0s 324ms/step - loss: 0.3897 - val_loss: 0.3650\n",
      "Epoch 75/200\n",
      "1/1 [==============================] - 0s 335ms/step - loss: 0.3895 - val_loss: 0.3650\n",
      "Epoch 76/200\n",
      "1/1 [==============================] - 0s 471ms/step - loss: 0.3894 - val_loss: 0.3650\n",
      "Epoch 77/200\n",
      "1/1 [==============================] - 1s 642ms/step - loss: 0.3892 - val_loss: 0.3649\n",
      "Epoch 78/200\n",
      "1/1 [==============================] - 1s 807ms/step - loss: 0.3891 - val_loss: 0.3649\n",
      "Epoch 79/200\n",
      "1/1 [==============================] - 1s 798ms/step - loss: 0.3889 - val_loss: 0.3649\n",
      "Epoch 80/200\n",
      "1/1 [==============================] - 1s 840ms/step - loss: 0.3888 - val_loss: 0.3649\n",
      "Epoch 81/200\n",
      "1/1 [==============================] - 1s 595ms/step - loss: 0.3886 - val_loss: 0.3648\n",
      "Epoch 82/200\n",
      "1/1 [==============================] - 1s 709ms/step - loss: 0.3885 - val_loss: 0.3647\n",
      "Epoch 83/200\n"
     ]
    },
    {
     "name": "stdout",
     "output_type": "stream",
     "text": [
      "1/1 [==============================] - 1s 654ms/step - loss: 0.3883 - val_loss: 0.3647\n",
      "Epoch 84/200\n",
      "1/1 [==============================] - 0s 407ms/step - loss: 0.3882 - val_loss: 0.3645\n",
      "Epoch 85/200\n",
      "1/1 [==============================] - 0s 290ms/step - loss: 0.3880 - val_loss: 0.3644\n",
      "Epoch 86/200\n",
      "1/1 [==============================] - 1s 1s/step - loss: 0.3879 - val_loss: 0.3643\n",
      "Epoch 87/200\n",
      "1/1 [==============================] - 0s 335ms/step - loss: 0.3878 - val_loss: 0.3641\n",
      "Epoch 88/200\n",
      "1/1 [==============================] - 0s 281ms/step - loss: 0.3876 - val_loss: 0.3640\n",
      "Epoch 89/200\n",
      "1/1 [==============================] - 0s 270ms/step - loss: 0.3875 - val_loss: 0.3638\n",
      "Epoch 90/200\n",
      "1/1 [==============================] - 1s 803ms/step - loss: 0.3873 - val_loss: 0.3637\n",
      "Epoch 91/200\n",
      "1/1 [==============================] - 1s 601ms/step - loss: 0.3872 - val_loss: 0.3635\n",
      "Epoch 92/200\n",
      "1/1 [==============================] - 1s 754ms/step - loss: 0.3870 - val_loss: 0.3634\n",
      "Epoch 93/200\n",
      "1/1 [==============================] - 1s 509ms/step - loss: 0.3869 - val_loss: 0.3633\n",
      "Epoch 94/200\n",
      "1/1 [==============================] - 1s 505ms/step - loss: 0.3867 - val_loss: 0.3632\n",
      "Epoch 95/200\n",
      "1/1 [==============================] - 0s 438ms/step - loss: 0.3865 - val_loss: 0.3631\n",
      "Epoch 96/200\n",
      "1/1 [==============================] - 1s 738ms/step - loss: 0.3864 - val_loss: 0.3630\n",
      "Epoch 97/200\n",
      "1/1 [==============================] - 0s 380ms/step - loss: 0.3862 - val_loss: 0.3629\n",
      "Epoch 98/200\n",
      "1/1 [==============================] - 0s 435ms/step - loss: 0.3861 - val_loss: 0.3628\n",
      "Epoch 99/200\n",
      "1/1 [==============================] - 1s 565ms/step - loss: 0.3859 - val_loss: 0.3628\n",
      "Epoch 100/200\n",
      "1/1 [==============================] - 0s 288ms/step - loss: 0.3858 - val_loss: 0.3627\n",
      "Epoch 101/200\n",
      "1/1 [==============================] - 0s 291ms/step - loss: 0.3856 - val_loss: 0.3625\n",
      "Epoch 102/200\n",
      "1/1 [==============================] - 0s 320ms/step - loss: 0.3854 - val_loss: 0.3624\n",
      "Epoch 103/200\n",
      "1/1 [==============================] - 0s 372ms/step - loss: 0.3853 - val_loss: 0.3622\n",
      "Epoch 104/200\n",
      "1/1 [==============================] - 0s 481ms/step - loss: 0.3851 - val_loss: 0.3621\n",
      "Epoch 105/200\n",
      "1/1 [==============================] - 0s 486ms/step - loss: 0.3849 - val_loss: 0.3619\n",
      "Epoch 106/200\n",
      "1/1 [==============================] - 1s 778ms/step - loss: 0.3848 - val_loss: 0.3616\n",
      "Epoch 107/200\n",
      "1/1 [==============================] - 0s 446ms/step - loss: 0.3846 - val_loss: 0.3614\n",
      "Epoch 108/200\n",
      "1/1 [==============================] - 0s 308ms/step - loss: 0.3844 - val_loss: 0.3612\n",
      "Epoch 109/200\n",
      "1/1 [==============================] - 1s 945ms/step - loss: 0.3843 - val_loss: 0.3609\n",
      "Epoch 110/200\n",
      "1/1 [==============================] - 1s 650ms/step - loss: 0.3841 - val_loss: 0.3607\n",
      "Epoch 111/200\n",
      "1/1 [==============================] - 1s 868ms/step - loss: 0.3839 - val_loss: 0.3604\n",
      "Epoch 112/200\n",
      "1/1 [==============================] - 1s 854ms/step - loss: 0.3837 - val_loss: 0.3602\n",
      "Epoch 113/200\n",
      "1/1 [==============================] - 1s 866ms/step - loss: 0.3835 - val_loss: 0.3600\n",
      "Epoch 114/200\n",
      "1/1 [==============================] - 1s 873ms/step - loss: 0.3833 - val_loss: 0.3597\n",
      "Epoch 115/200\n",
      "1/1 [==============================] - 1s 824ms/step - loss: 0.3831 - val_loss: 0.3595\n",
      "Epoch 116/200\n",
      "1/1 [==============================] - 1s 583ms/step - loss: 0.3829 - val_loss: 0.3592\n",
      "Epoch 117/200\n",
      "1/1 [==============================] - 1s 621ms/step - loss: 0.3828 - val_loss: 0.3590\n",
      "Epoch 118/200\n",
      "1/1 [==============================] - 1s 624ms/step - loss: 0.3826 - val_loss: 0.3587\n",
      "Epoch 119/200\n",
      "1/1 [==============================] - 1s 905ms/step - loss: 0.3823 - val_loss: 0.3584\n",
      "Epoch 120/200\n",
      "1/1 [==============================] - 1s 858ms/step - loss: 0.3821 - val_loss: 0.3581\n",
      "Epoch 121/200\n",
      "1/1 [==============================] - 1s 894ms/step - loss: 0.3819 - val_loss: 0.3577\n",
      "Epoch 122/200\n",
      "1/1 [==============================] - 1s 752ms/step - loss: 0.3817 - val_loss: 0.3574\n",
      "Epoch 123/200\n",
      "1/1 [==============================] - 1s 535ms/step - loss: 0.3815 - val_loss: 0.3570\n",
      "Epoch 124/200\n",
      "1/1 [==============================] - 1s 565ms/step - loss: 0.3813 - val_loss: 0.3567\n",
      "Epoch 125/200\n",
      "1/1 [==============================] - 0s 323ms/step - loss: 0.3811 - val_loss: 0.3563\n",
      "Epoch 126/200\n",
      "1/1 [==============================] - 0s 330ms/step - loss: 0.3808 - val_loss: 0.3559\n",
      "Epoch 127/200\n",
      "1/1 [==============================] - 1s 709ms/step - loss: 0.3806 - val_loss: 0.3555\n",
      "Epoch 128/200\n",
      "1/1 [==============================] - 1s 679ms/step - loss: 0.3804 - val_loss: 0.3551\n",
      "Epoch 129/200\n",
      "1/1 [==============================] - 1s 929ms/step - loss: 0.3801 - val_loss: 0.3547\n",
      "Epoch 130/200\n",
      "1/1 [==============================] - 1s 776ms/step - loss: 0.3799 - val_loss: 0.3542\n",
      "Epoch 131/200\n",
      "1/1 [==============================] - 1s 790ms/step - loss: 0.3796 - val_loss: 0.3538\n",
      "Epoch 132/200\n",
      "1/1 [==============================] - 1s 685ms/step - loss: 0.3794 - val_loss: 0.3534\n",
      "Epoch 133/200\n",
      "1/1 [==============================] - 1s 582ms/step - loss: 0.3791 - val_loss: 0.3529\n",
      "Epoch 134/200\n",
      "1/1 [==============================] - 1s 694ms/step - loss: 0.3788 - val_loss: 0.3524\n",
      "Epoch 135/200\n",
      "1/1 [==============================] - 1s 986ms/step - loss: 0.3786 - val_loss: 0.3519\n",
      "Epoch 136/200\n",
      "1/1 [==============================] - 1s 600ms/step - loss: 0.3783 - val_loss: 0.3513\n",
      "Epoch 137/200\n",
      "1/1 [==============================] - 1s 815ms/step - loss: 0.3780 - val_loss: 0.3508\n",
      "Epoch 138/200\n",
      "1/1 [==============================] - 1s 600ms/step - loss: 0.3777 - val_loss: 0.3502\n",
      "Epoch 139/200\n",
      "1/1 [==============================] - 1s 896ms/step - loss: 0.3774 - val_loss: 0.3496\n",
      "Epoch 140/200\n",
      "1/1 [==============================] - 0s 407ms/step - loss: 0.3771 - val_loss: 0.3489\n",
      "Epoch 141/200\n",
      "1/1 [==============================] - 0s 332ms/step - loss: 0.3768 - val_loss: 0.3483\n",
      "Epoch 142/200\n",
      "1/1 [==============================] - 1s 826ms/step - loss: 0.3764 - val_loss: 0.3476\n",
      "Epoch 143/200\n",
      "1/1 [==============================] - 1s 929ms/step - loss: 0.3761 - val_loss: 0.3469\n",
      "Epoch 144/200\n",
      "1/1 [==============================] - 1s 580ms/step - loss: 0.3757 - val_loss: 0.3461\n",
      "Epoch 145/200\n",
      "1/1 [==============================] - 0s 315ms/step - loss: 0.3753 - val_loss: 0.3454\n",
      "Epoch 146/200\n",
      "1/1 [==============================] - 0s 299ms/step - loss: 0.3750 - val_loss: 0.3446\n",
      "Epoch 147/200\n",
      "1/1 [==============================] - 0s 316ms/step - loss: 0.3746 - val_loss: 0.3438\n",
      "Epoch 148/200\n",
      "1/1 [==============================] - 0s 363ms/step - loss: 0.3741 - val_loss: 0.3429\n",
      "Epoch 149/200\n",
      "1/1 [==============================] - 0s 400ms/step - loss: 0.3737 - val_loss: 0.3421\n",
      "Epoch 150/200\n",
      "1/1 [==============================] - 1s 711ms/step - loss: 0.3733 - val_loss: 0.3412\n",
      "Epoch 151/200\n",
      "1/1 [==============================] - 1s 541ms/step - loss: 0.3728 - val_loss: 0.3403\n",
      "Epoch 152/200\n",
      "1/1 [==============================] - 1s 891ms/step - loss: 0.3723 - val_loss: 0.3393\n",
      "Epoch 153/200\n",
      "1/1 [==============================] - 1s 1s/step - loss: 0.3718 - val_loss: 0.3384\n",
      "Epoch 154/200\n",
      "1/1 [==============================] - 1s 632ms/step - loss: 0.3713 - val_loss: 0.3374\n",
      "Epoch 155/200\n",
      "1/1 [==============================] - 1s 1s/step - loss: 0.3708 - val_loss: 0.3364\n",
      "Epoch 156/200\n",
      "1/1 [==============================] - 1s 1s/step - loss: 0.3703 - val_loss: 0.3354\n",
      "Epoch 157/200\n",
      "1/1 [==============================] - 1s 782ms/step - loss: 0.3698 - val_loss: 0.3343\n",
      "Epoch 158/200\n",
      "1/1 [==============================] - 0s 348ms/step - loss: 0.3692 - val_loss: 0.3332\n",
      "Epoch 159/200\n",
      "1/1 [==============================] - 0s 452ms/step - loss: 0.3687 - val_loss: 0.3321\n",
      "Epoch 160/200\n",
      "1/1 [==============================] - 1s 554ms/step - loss: 0.3681 - val_loss: 0.3309\n",
      "Epoch 161/200\n",
      "1/1 [==============================] - 0s 406ms/step - loss: 0.3676 - val_loss: 0.3297\n",
      "Epoch 162/200\n",
      "1/1 [==============================] - 1s 627ms/step - loss: 0.3671 - val_loss: 0.3284\n",
      "Epoch 163/200\n",
      "1/1 [==============================] - 0s 460ms/step - loss: 0.3666 - val_loss: 0.3272\n",
      "Epoch 164/200\n"
     ]
    },
    {
     "name": "stdout",
     "output_type": "stream",
     "text": [
      "1/1 [==============================] - 1s 960ms/step - loss: 0.3661 - val_loss: 0.3258\n",
      "Epoch 165/200\n",
      "1/1 [==============================] - 1s 677ms/step - loss: 0.3656 - val_loss: 0.3245\n",
      "Epoch 166/200\n",
      "1/1 [==============================] - 1s 778ms/step - loss: 0.3652 - val_loss: 0.3232\n",
      "Epoch 167/200\n",
      "1/1 [==============================] - 1s 713ms/step - loss: 0.3647 - val_loss: 0.3218\n",
      "Epoch 168/200\n",
      "1/1 [==============================] - 1s 743ms/step - loss: 0.3643 - val_loss: 0.3205\n",
      "Epoch 169/200\n",
      "1/1 [==============================] - 0s 301ms/step - loss: 0.3639 - val_loss: 0.3193\n",
      "Epoch 170/200\n",
      "1/1 [==============================] - 1s 581ms/step - loss: 0.3635 - val_loss: 0.3181\n",
      "Epoch 171/200\n",
      "1/1 [==============================] - 0s 375ms/step - loss: 0.3631 - val_loss: 0.3170\n",
      "Epoch 172/200\n",
      "1/1 [==============================] - 1s 955ms/step - loss: 0.3627 - val_loss: 0.3159\n",
      "Epoch 173/200\n",
      "1/1 [==============================] - 1s 899ms/step - loss: 0.3623 - val_loss: 0.3150\n",
      "Epoch 174/200\n",
      "1/1 [==============================] - 1s 840ms/step - loss: 0.3619 - val_loss: 0.3140\n",
      "Epoch 175/200\n",
      "1/1 [==============================] - 1s 653ms/step - loss: 0.3615 - val_loss: 0.3132\n",
      "Epoch 176/200\n",
      "1/1 [==============================] - 1s 848ms/step - loss: 0.3611 - val_loss: 0.3123\n",
      "Epoch 177/200\n",
      "1/1 [==============================] - 1s 601ms/step - loss: 0.3607 - val_loss: 0.3115\n",
      "Epoch 178/200\n",
      "1/1 [==============================] - 1s 714ms/step - loss: 0.3602 - val_loss: 0.3107\n",
      "Epoch 179/200\n",
      "1/1 [==============================] - 1s 912ms/step - loss: 0.3598 - val_loss: 0.3100\n",
      "Epoch 180/200\n",
      "1/1 [==============================] - 1s 935ms/step - loss: 0.3594 - val_loss: 0.3092\n",
      "Epoch 181/200\n",
      "1/1 [==============================] - 1s 837ms/step - loss: 0.3590 - val_loss: 0.3085\n",
      "Epoch 182/200\n",
      "1/1 [==============================] - 1s 844ms/step - loss: 0.3585 - val_loss: 0.3079\n",
      "Epoch 183/200\n",
      "1/1 [==============================] - 1s 864ms/step - loss: 0.3581 - val_loss: 0.3073\n",
      "Epoch 184/200\n",
      "1/1 [==============================] - 1s 851ms/step - loss: 0.3577 - val_loss: 0.3067\n",
      "Epoch 185/200\n",
      "1/1 [==============================] - 1s 556ms/step - loss: 0.3572 - val_loss: 0.3061\n",
      "Epoch 186/200\n",
      "1/1 [==============================] - 1s 820ms/step - loss: 0.3568 - val_loss: 0.3055\n",
      "Epoch 187/200\n",
      "1/1 [==============================] - 1s 647ms/step - loss: 0.3564 - val_loss: 0.3050\n",
      "Epoch 188/200\n",
      "1/1 [==============================] - 1s 684ms/step - loss: 0.3559 - val_loss: 0.3044\n",
      "Epoch 189/200\n",
      "1/1 [==============================] - 1s 793ms/step - loss: 0.3555 - val_loss: 0.3038\n",
      "Epoch 190/200\n",
      "1/1 [==============================] - 0s 291ms/step - loss: 0.3550 - val_loss: 0.3032\n",
      "Epoch 191/200\n",
      "1/1 [==============================] - 0s 414ms/step - loss: 0.3545 - val_loss: 0.3027\n",
      "Epoch 192/200\n",
      "1/1 [==============================] - 0s 301ms/step - loss: 0.3541 - val_loss: 0.3021\n",
      "Epoch 193/200\n",
      "1/1 [==============================] - 1s 685ms/step - loss: 0.3536 - val_loss: 0.3016\n",
      "Epoch 194/200\n",
      "1/1 [==============================] - 1s 802ms/step - loss: 0.3531 - val_loss: 0.3011\n",
      "Epoch 195/200\n",
      "1/1 [==============================] - 1s 518ms/step - loss: 0.3526 - val_loss: 0.3006\n",
      "Epoch 196/200\n",
      "1/1 [==============================] - 1s 599ms/step - loss: 0.3522 - val_loss: 0.3001\n",
      "Epoch 197/200\n",
      "1/1 [==============================] - 1s 624ms/step - loss: 0.3517 - val_loss: 0.2996\n",
      "Epoch 198/200\n",
      "1/1 [==============================] - 1s 743ms/step - loss: 0.3512 - val_loss: 0.2990\n",
      "Epoch 199/200\n",
      "1/1 [==============================] - 1s 589ms/step - loss: 0.3507 - val_loss: 0.2983\n",
      "Epoch 200/200\n",
      "1/1 [==============================] - 1s 704ms/step - loss: 0.3502 - val_loss: 0.2976\n"
     ]
    },
    {
     "name": "stderr",
     "output_type": "stream",
     "text": [
      "WARNING:absl:Found untraced functions such as lstm_cell_layer_call_fn, lstm_cell_layer_call_and_return_conditional_losses, lstm_cell_1_layer_call_fn, lstm_cell_1_layer_call_and_return_conditional_losses while saving (showing 4 of 4). These functions will not be directly callable after loading.\n",
      "INFO:tensorflow:Assets written to: C:\\Users\\Ekubay\\AppData\\Local\\Temp\\tmp5bysgi8t\\model\\data\\model\\assets\n",
      "2022/09/09 20:41:19 WARNING mlflow.utils.environment: Encountered an unexpected error while inferring pip requirements (model URI: C:\\Users\\Ekubay\\AppData\\Local\\Temp\\tmp5bysgi8t\\model, flavor: keras), fall back to return ['tensorflow==2.10.0', 'keras==2.10.0']. Set logging level to DEBUG to see the full traceback.\n"
     ]
    }
   ],
   "source": [
    "mlflow.set_experiment(\"LSTM\")\n",
    "mlflow.tensorflow.autolog()\n",
    "history = model.fit(DatasetTrain, epochs=EPOCHS, validation_data=DatasetVal, verbose=1)"
   ]
  },
  {
   "cell_type": "code",
   "execution_count": 196,
   "id": "ee355c45",
   "metadata": {},
   "outputs": [],
   "source": [
    "from time import gmtime, strftime"
   ]
  },
  {
   "cell_type": "code",
   "execution_count": 197,
   "id": "9ed09a6e",
   "metadata": {},
   "outputs": [
    {
     "name": "stderr",
     "output_type": "stream",
     "text": [
      "WARNING:absl:Found untraced functions such as lstm_cell_layer_call_fn, lstm_cell_layer_call_and_return_conditional_losses, lstm_cell_1_layer_call_fn, lstm_cell_1_layer_call_and_return_conditional_losses while saving (showing 4 of 4). These functions will not be directly callable after loading.\n",
      "INFO:tensorflow:Assets written to: ../models/sales_LSTM-2022-09-09-17-41-22.pkl\\assets\n"
     ]
    }
   ],
   "source": [
    "time = strftime(\"%Y-%m-%d-%H-%M-%S\", gmtime())\n",
    "model.save(f'../models/sales_LSTM-{time}.pkl')"
   ]
  },
  {
   "cell_type": "markdown",
   "id": "4c9a561d",
   "metadata": {},
   "source": [
    "## Using Keras"
   ]
  },
  {
   "cell_type": "code",
   "execution_count": 179,
   "id": "e74fee68",
   "metadata": {
    "scrolled": false
   },
   "outputs": [
    {
     "data": {
      "text/html": [
       "<div>\n",
       "<style scoped>\n",
       "    .dataframe tbody tr th:only-of-type {\n",
       "        vertical-align: middle;\n",
       "    }\n",
       "\n",
       "    .dataframe tbody tr th {\n",
       "        vertical-align: top;\n",
       "    }\n",
       "\n",
       "    .dataframe thead th {\n",
       "        text-align: right;\n",
       "    }\n",
       "</style>\n",
       "<table border=\"1\" class=\"dataframe\">\n",
       "  <thead>\n",
       "    <tr style=\"text-align: right;\">\n",
       "      <th></th>\n",
       "      <th>Sales</th>\n",
       "    </tr>\n",
       "    <tr>\n",
       "      <th>Dates</th>\n",
       "      <th></th>\n",
       "    </tr>\n",
       "  </thead>\n",
       "  <tbody>\n",
       "    <tr>\n",
       "      <th>2013-01-01</th>\n",
       "      <td>76.940754</td>\n",
       "    </tr>\n",
       "    <tr>\n",
       "      <th>2013-01-02</th>\n",
       "      <td>6051.894170</td>\n",
       "    </tr>\n",
       "    <tr>\n",
       "      <th>2013-01-03</th>\n",
       "      <td>5578.240359</td>\n",
       "    </tr>\n",
       "    <tr>\n",
       "      <th>2013-01-04</th>\n",
       "      <td>5833.756951</td>\n",
       "    </tr>\n",
       "    <tr>\n",
       "      <th>2013-01-05</th>\n",
       "      <td>5179.874439</td>\n",
       "    </tr>\n",
       "  </tbody>\n",
       "</table>\n",
       "</div>"
      ],
      "text/plain": [
       "                  Sales\n",
       "Dates                  \n",
       "2013-01-01    76.940754\n",
       "2013-01-02  6051.894170\n",
       "2013-01-03  5578.240359\n",
       "2013-01-04  5833.756951\n",
       "2013-01-05  5179.874439"
      ]
     },
     "execution_count": 179,
     "metadata": {},
     "output_type": "execute_result"
    }
   ],
   "source": [
    "sales_df.head()"
   ]
  },
  {
   "cell_type": "code",
   "execution_count": 249,
   "id": "73325da1",
   "metadata": {},
   "outputs": [],
   "source": [
    "sales_df = train_df.groupby(\"Dates\").agg({\"Sales\": \"mean\"})"
   ]
  },
  {
   "cell_type": "code",
   "execution_count": 250,
   "id": "5032bedc",
   "metadata": {},
   "outputs": [
    {
     "data": {
      "text/html": [
       "<div>\n",
       "<style scoped>\n",
       "    .dataframe tbody tr th:only-of-type {\n",
       "        vertical-align: middle;\n",
       "    }\n",
       "\n",
       "    .dataframe tbody tr th {\n",
       "        vertical-align: top;\n",
       "    }\n",
       "\n",
       "    .dataframe thead th {\n",
       "        text-align: right;\n",
       "    }\n",
       "</style>\n",
       "<table border=\"1\" class=\"dataframe\">\n",
       "  <thead>\n",
       "    <tr style=\"text-align: right;\">\n",
       "      <th></th>\n",
       "      <th>Sales</th>\n",
       "    </tr>\n",
       "    <tr>\n",
       "      <th>Dates</th>\n",
       "      <th></th>\n",
       "    </tr>\n",
       "  </thead>\n",
       "  <tbody>\n",
       "    <tr>\n",
       "      <th>2013-01-01</th>\n",
       "      <td>76.940754</td>\n",
       "    </tr>\n",
       "    <tr>\n",
       "      <th>2013-01-02</th>\n",
       "      <td>6051.894170</td>\n",
       "    </tr>\n",
       "    <tr>\n",
       "      <th>2013-01-03</th>\n",
       "      <td>5578.240359</td>\n",
       "    </tr>\n",
       "    <tr>\n",
       "      <th>2013-01-04</th>\n",
       "      <td>5833.756951</td>\n",
       "    </tr>\n",
       "    <tr>\n",
       "      <th>2013-01-05</th>\n",
       "      <td>5179.874439</td>\n",
       "    </tr>\n",
       "  </tbody>\n",
       "</table>\n",
       "</div>"
      ],
      "text/plain": [
       "                  Sales\n",
       "Dates                  \n",
       "2013-01-01    76.940754\n",
       "2013-01-02  6051.894170\n",
       "2013-01-03  5578.240359\n",
       "2013-01-04  5833.756951\n",
       "2013-01-05  5179.874439"
      ]
     },
     "execution_count": 250,
     "metadata": {},
     "output_type": "execute_result"
    }
   ],
   "source": [
    "sales_df.head()"
   ]
  },
  {
   "cell_type": "code",
   "execution_count": 217,
   "id": "5386d3f7",
   "metadata": {},
   "outputs": [],
   "source": [
    "def convert2matrix(data_arr, look_back):\n",
    "    X, Y =[], []\n",
    "    for i in range(len(data_arr)-look_back):\n",
    "        d=i+look_back  \n",
    "        X.append(data_arr[i:d,])\n",
    "        Y.append(data_arr[d,])\n",
    "    return np.array(X), np.array(Y)"
   ]
  },
  {
   "cell_type": "code",
   "execution_count": 225,
   "id": "c39ca7e5",
   "metadata": {},
   "outputs": [],
   "source": [
    "#sales.dtypes"
   ]
  },
  {
   "cell_type": "code",
   "execution_count": 257,
   "id": "81290071",
   "metadata": {},
   "outputs": [],
   "source": [
    "#create numpy.ndarray\n",
    "from sklearn.preprocessing import MinMaxScaler\n",
    "#create numpy.ndarray\n",
    "df_arr= sales_df.values \n",
    "#sales_df.values = df_arr.astype('float32')\n",
    "df_arr = np.reshape(df_arr, (-1, 1)) #LTSM requires more input features compared to RNN or DNN\n",
    "scaler = MinMaxScaler(feature_range=(0, 1))#LTSM is senstive to the scale of features\n",
    "df_arr = scaler.fit_transform(df_arr)"
   ]
  },
  {
   "cell_type": "code",
   "execution_count": 256,
   "id": "1a90152f",
   "metadata": {
    "scrolled": true
   },
   "outputs": [
    {
     "data": {
      "text/plain": [
       "Sales    float64\n",
       "dtype: object"
      ]
     },
     "execution_count": 256,
     "metadata": {},
     "output_type": "execute_result"
    }
   ],
   "source": [
    "sales_df.dtypes"
   ]
  },
  {
   "cell_type": "code",
   "execution_count": 227,
   "id": "ded00293",
   "metadata": {},
   "outputs": [
    {
     "name": "stdout",
     "output_type": "stream",
     "text": [
      "942\n"
     ]
    }
   ],
   "source": [
    "print(len(df_arr))"
   ]
  },
  {
   "cell_type": "markdown",
   "id": "3621ffd2",
   "metadata": {},
   "source": [
    "**Split dataset into training and test dataset. Create input 3-D input shape for LSTM.**"
   ]
  },
  {
   "cell_type": "code",
   "execution_count": 258,
   "id": "de1f064f",
   "metadata": {},
   "outputs": [],
   "source": [
    "train_size = 842\n",
    "test_size = len(df_arr) - train_size\n",
    "train, test = df_arr[0:train_size,:], df_arr[train_size:len(df_arr),:]\n",
    "look_back = 30\n",
    "trainX, trainY = convert2matrix(train, look_back)\n",
    "testX, testY = convert2matrix(test, look_back)\n",
    "# reshape input to be [samples, time steps, features]\n",
    "trainX = np.reshape(trainX, (trainX.shape[0], 1, trainX.shape[1]))\n",
    "testX = np.reshape(testX, (testX.shape[0], 1, testX.shape[1]))"
   ]
  },
  {
   "cell_type": "markdown",
   "id": "3b76d9da",
   "metadata": {},
   "source": [
    "## Step 2: Define neural network shape and compile model\n",
    "Here, a very simple two-layer LTSM without hidden layers"
   ]
  },
  {
   "cell_type": "code",
   "execution_count": 259,
   "id": "4cd0ab12",
   "metadata": {},
   "outputs": [],
   "source": [
    "from keras.models import Sequential\n",
    "from keras.layers import Dense, LSTM, Dropout\n",
    "from keras.callbacks import EarlyStopping\n",
    "def model_lstm(look_back):\n",
    "    model=Sequential()\n",
    "    model.add(LSTM(100, input_shape=(1, look_back), activation='relu'))\n",
    "    model.add(Dense(1))\n",
    "    model.compile(loss='mean_squared_error',  optimizer='adam',metrics = ['mse', 'mae'])\n",
    "    return model"
   ]
  },
  {
   "cell_type": "code",
   "execution_count": 241,
   "id": "944aa722",
   "metadata": {},
   "outputs": [
    {
     "data": {
      "text/plain": [
       "(812, 1, 30)"
      ]
     },
     "execution_count": 241,
     "metadata": {},
     "output_type": "execute_result"
    }
   ],
   "source": [
    "trainX.shape"
   ]
  },
  {
   "cell_type": "markdown",
   "id": "e44c5539",
   "metadata": {},
   "source": [
    "## Step 3: Fit model"
   ]
  },
  {
   "cell_type": "code",
   "execution_count": 260,
   "id": "78f74ad8",
   "metadata": {},
   "outputs": [
    {
     "name": "stderr",
     "output_type": "stream",
     "text": [
      "2022/09/09 21:40:48 INFO mlflow.utils.autologging_utils: Created MLflow autologging run with ID '17c77aa1e9724eb1a8de6223a3e96d37', which will track hyperparameters, performance metrics, model artifacts, and lineage information for the current tensorflow workflow\n"
     ]
    },
    {
     "name": "stdout",
     "output_type": "stream",
     "text": [
      "Epoch 1/100\n",
      " 6/28 [=====>........................] - ETA: 0s - loss: 0.3126 - mse: 0.3126 - mae: 0.5084 "
     ]
    },
    {
     "name": "stderr",
     "output_type": "stream",
     "text": [
      "WARNING:tensorflow:Callback method `on_train_batch_end` is slow compared to the batch time (batch time: 0.0081s vs `on_train_batch_end` time: 0.0144s). Check your callbacks.\n"
     ]
    },
    {
     "name": "stdout",
     "output_type": "stream",
     "text": [
      "28/28 [==============================] - 2s 40ms/step - loss: 0.1622 - mse: 0.1622 - mae: 0.3247 - val_loss: 0.0782 - val_mse: 0.0782 - val_mae: 0.1987\n",
      "Epoch 2/100\n",
      "28/28 [==============================] - 1s 19ms/step - loss: 0.0672 - mse: 0.0672 - mae: 0.1937 - val_loss: 0.0475 - val_mse: 0.0475 - val_mae: 0.1612\n",
      "Epoch 3/100\n",
      "28/28 [==============================] - 0s 16ms/step - loss: 0.0423 - mse: 0.0423 - mae: 0.1539 - val_loss: 0.0265 - val_mse: 0.0265 - val_mae: 0.1206\n",
      "Epoch 4/100\n",
      "28/28 [==============================] - 0s 17ms/step - loss: 0.0299 - mse: 0.0299 - mae: 0.1226 - val_loss: 0.0203 - val_mse: 0.0203 - val_mae: 0.0935\n",
      "Epoch 5/100\n",
      "28/28 [==============================] - 0s 11ms/step - loss: 0.0272 - mse: 0.0272 - mae: 0.1074 - val_loss: 0.0190 - val_mse: 0.0190 - val_mae: 0.0849\n",
      "Epoch 6/100\n",
      "28/28 [==============================] - 0s 12ms/step - loss: 0.0263 - mse: 0.0263 - mae: 0.1031 - val_loss: 0.0183 - val_mse: 0.0183 - val_mae: 0.0808\n",
      "Epoch 7/100\n",
      "28/28 [==============================] - 1s 22ms/step - loss: 0.0258 - mse: 0.0258 - mae: 0.1005 - val_loss: 0.0179 - val_mse: 0.0179 - val_mae: 0.0788\n",
      "Epoch 8/100\n",
      "28/28 [==============================] - 0s 16ms/step - loss: 0.0254 - mse: 0.0254 - mae: 0.0987 - val_loss: 0.0176 - val_mse: 0.0176 - val_mae: 0.0777\n",
      "Epoch 9/100\n",
      "28/28 [==============================] - 1s 19ms/step - loss: 0.0251 - mse: 0.0251 - mae: 0.0975 - val_loss: 0.0175 - val_mse: 0.0175 - val_mae: 0.0771\n",
      "Epoch 10/100\n",
      "28/28 [==============================] - 0s 14ms/step - loss: 0.0248 - mse: 0.0248 - mae: 0.0964 - val_loss: 0.0173 - val_mse: 0.0173 - val_mae: 0.0762\n",
      "Epoch 11/100\n",
      "28/28 [==============================] - 0s 17ms/step - loss: 0.0245 - mse: 0.0245 - mae: 0.0953 - val_loss: 0.0173 - val_mse: 0.0173 - val_mae: 0.0759\n",
      "Epoch 12/100\n",
      "28/28 [==============================] - 1s 20ms/step - loss: 0.0242 - mse: 0.0242 - mae: 0.0945 - val_loss: 0.0172 - val_mse: 0.0172 - val_mae: 0.0758\n",
      "Epoch 13/100\n",
      "28/28 [==============================] - 0s 12ms/step - loss: 0.0240 - mse: 0.0240 - mae: 0.0936 - val_loss: 0.0172 - val_mse: 0.0172 - val_mae: 0.0764\n",
      "Epoch 14/100\n",
      "28/28 [==============================] - 0s 14ms/step - loss: 0.0238 - mse: 0.0238 - mae: 0.0929 - val_loss: 0.0169 - val_mse: 0.0169 - val_mae: 0.0754\n",
      "Epoch 15/100\n",
      "28/28 [==============================] - 0s 18ms/step - loss: 0.0236 - mse: 0.0236 - mae: 0.0920 - val_loss: 0.0168 - val_mse: 0.0168 - val_mae: 0.0749\n",
      "Epoch 16/100\n",
      "28/28 [==============================] - 0s 15ms/step - loss: 0.0233 - mse: 0.0233 - mae: 0.0912 - val_loss: 0.0167 - val_mse: 0.0167 - val_mae: 0.0749\n",
      "Epoch 17/100\n",
      "28/28 [==============================] - 0s 16ms/step - loss: 0.0231 - mse: 0.0231 - mae: 0.0905 - val_loss: 0.0166 - val_mse: 0.0166 - val_mae: 0.0750\n",
      "Epoch 18/100\n",
      "28/28 [==============================] - 0s 17ms/step - loss: 0.0229 - mse: 0.0229 - mae: 0.0897 - val_loss: 0.0165 - val_mse: 0.0165 - val_mae: 0.0749\n",
      "Epoch 19/100\n",
      "28/28 [==============================] - 0s 16ms/step - loss: 0.0226 - mse: 0.0226 - mae: 0.0890 - val_loss: 0.0164 - val_mse: 0.0164 - val_mae: 0.0749\n",
      "Epoch 20/100\n",
      "28/28 [==============================] - 0s 14ms/step - loss: 0.0224 - mse: 0.0224 - mae: 0.0882 - val_loss: 0.0164 - val_mse: 0.0164 - val_mae: 0.0754\n",
      "Epoch 21/100\n",
      "28/28 [==============================] - 0s 13ms/step - loss: 0.0221 - mse: 0.0221 - mae: 0.0875 - val_loss: 0.0163 - val_mse: 0.0163 - val_mae: 0.0761\n",
      "Epoch 22/100\n",
      "28/28 [==============================] - 0s 13ms/step - loss: 0.0218 - mse: 0.0218 - mae: 0.0868 - val_loss: 0.0160 - val_mse: 0.0160 - val_mae: 0.0750\n",
      "Epoch 23/100\n",
      "28/28 [==============================] - 0s 18ms/step - loss: 0.0215 - mse: 0.0215 - mae: 0.0856 - val_loss: 0.0158 - val_mse: 0.0158 - val_mae: 0.0758\n",
      "Epoch 24/100\n",
      "28/28 [==============================] - 0s 7ms/step - loss: 0.0212 - mse: 0.0212 - mae: 0.0849 - val_loss: 0.0156 - val_mse: 0.0156 - val_mae: 0.0753\n",
      "Epoch 25/100\n",
      "28/28 [==============================] - 0s 8ms/step - loss: 0.0209 - mse: 0.0209 - mae: 0.0840 - val_loss: 0.0153 - val_mse: 0.0153 - val_mae: 0.0749\n",
      "Epoch 26/100\n",
      "28/28 [==============================] - 0s 8ms/step - loss: 0.0206 - mse: 0.0206 - mae: 0.0834 - val_loss: 0.0152 - val_mse: 0.0152 - val_mae: 0.0754\n",
      "Epoch 27/100\n",
      "28/28 [==============================] - 0s 8ms/step - loss: 0.0203 - mse: 0.0203 - mae: 0.0831 - val_loss: 0.0150 - val_mse: 0.0150 - val_mae: 0.0751\n",
      "Epoch 28/100\n",
      "28/28 [==============================] - 0s 8ms/step - loss: 0.0201 - mse: 0.0201 - mae: 0.0826 - val_loss: 0.0146 - val_mse: 0.0146 - val_mae: 0.0739\n",
      "Epoch 29/100\n",
      "28/28 [==============================] - 0s 14ms/step - loss: 0.0198 - mse: 0.0198 - mae: 0.0820 - val_loss: 0.0144 - val_mse: 0.0144 - val_mae: 0.0736\n",
      "Epoch 30/100\n",
      "28/28 [==============================] - 0s 16ms/step - loss: 0.0195 - mse: 0.0195 - mae: 0.0815 - val_loss: 0.0142 - val_mse: 0.0142 - val_mae: 0.0732\n",
      "Epoch 31/100\n",
      "28/28 [==============================] - 0s 13ms/step - loss: 0.0192 - mse: 0.0192 - mae: 0.0806 - val_loss: 0.0139 - val_mse: 0.0139 - val_mae: 0.0723\n",
      "Epoch 32/100\n",
      "28/28 [==============================] - 0s 11ms/step - loss: 0.0189 - mse: 0.0189 - mae: 0.0797 - val_loss: 0.0138 - val_mse: 0.0138 - val_mae: 0.0719\n",
      "Epoch 33/100\n",
      "28/28 [==============================] - 0s 14ms/step - loss: 0.0187 - mse: 0.0187 - mae: 0.0793 - val_loss: 0.0138 - val_mse: 0.0138 - val_mae: 0.0734\n",
      "Epoch 34/100\n",
      "28/28 [==============================] - 0s 13ms/step - loss: 0.0185 - mse: 0.0185 - mae: 0.0789 - val_loss: 0.0134 - val_mse: 0.0134 - val_mae: 0.0717\n",
      "Epoch 35/100\n",
      "28/28 [==============================] - 0s 10ms/step - loss: 0.0182 - mse: 0.0182 - mae: 0.0784 - val_loss: 0.0131 - val_mse: 0.0131 - val_mae: 0.0707\n",
      "Epoch 36/100\n",
      "28/28 [==============================] - 1s 19ms/step - loss: 0.0180 - mse: 0.0180 - mae: 0.0777 - val_loss: 0.0131 - val_mse: 0.0131 - val_mae: 0.0710\n",
      "Epoch 37/100\n",
      "28/28 [==============================] - 0s 17ms/step - loss: 0.0177 - mse: 0.0177 - mae: 0.0774 - val_loss: 0.0128 - val_mse: 0.0128 - val_mae: 0.0700\n",
      "Epoch 38/100\n",
      "28/28 [==============================] - 0s 17ms/step - loss: 0.0176 - mse: 0.0176 - mae: 0.0771 - val_loss: 0.0128 - val_mse: 0.0128 - val_mae: 0.0702\n",
      "Epoch 39/100\n",
      "28/28 [==============================] - 0s 11ms/step - loss: 0.0173 - mse: 0.0173 - mae: 0.0764 - val_loss: 0.0130 - val_mse: 0.0130 - val_mae: 0.0717\n",
      "Epoch 40/100\n",
      "28/28 [==============================] - 0s 9ms/step - loss: 0.0170 - mse: 0.0170 - mae: 0.0758 - val_loss: 0.0127 - val_mse: 0.0127 - val_mae: 0.0703\n",
      "Epoch 41/100\n",
      "28/28 [==============================] - 0s 11ms/step - loss: 0.0168 - mse: 0.0168 - mae: 0.0753 - val_loss: 0.0126 - val_mse: 0.0126 - val_mae: 0.0694\n",
      "Epoch 42/100\n",
      "28/28 [==============================] - 0s 12ms/step - loss: 0.0166 - mse: 0.0166 - mae: 0.0750 - val_loss: 0.0123 - val_mse: 0.0123 - val_mae: 0.0694\n",
      "Epoch 43/100\n",
      "28/28 [==============================] - 0s 12ms/step - loss: 0.0163 - mse: 0.0163 - mae: 0.0743 - val_loss: 0.0123 - val_mse: 0.0123 - val_mae: 0.0691\n",
      "Epoch 44/100\n",
      "28/28 [==============================] - 0s 15ms/step - loss: 0.0161 - mse: 0.0161 - mae: 0.0739 - val_loss: 0.0121 - val_mse: 0.0121 - val_mae: 0.0682\n",
      "Epoch 45/100\n",
      "28/28 [==============================] - 0s 14ms/step - loss: 0.0159 - mse: 0.0159 - mae: 0.0735 - val_loss: 0.0122 - val_mse: 0.0122 - val_mae: 0.0688\n",
      "Epoch 46/100\n",
      "28/28 [==============================] - 0s 10ms/step - loss: 0.0158 - mse: 0.0158 - mae: 0.0731 - val_loss: 0.0121 - val_mse: 0.0121 - val_mae: 0.0693\n",
      "Epoch 47/100\n",
      "28/28 [==============================] - 0s 15ms/step - loss: 0.0156 - mse: 0.0156 - mae: 0.0729 - val_loss: 0.0120 - val_mse: 0.0120 - val_mae: 0.0685\n",
      "Epoch 48/100\n",
      "28/28 [==============================] - 0s 13ms/step - loss: 0.0155 - mse: 0.0155 - mae: 0.0730 - val_loss: 0.0121 - val_mse: 0.0121 - val_mae: 0.0701\n",
      "Epoch 49/100\n",
      "28/28 [==============================] - 0s 18ms/step - loss: 0.0153 - mse: 0.0153 - mae: 0.0724 - val_loss: 0.0119 - val_mse: 0.0119 - val_mae: 0.0693\n",
      "Epoch 50/100\n",
      "28/28 [==============================] - 0s 14ms/step - loss: 0.0152 - mse: 0.0152 - mae: 0.0720 - val_loss: 0.0119 - val_mse: 0.0119 - val_mae: 0.0691\n"
     ]
    },
    {
     "name": "stdout",
     "output_type": "stream",
     "text": [
      "Epoch 51/100\n",
      "28/28 [==============================] - 0s 15ms/step - loss: 0.0150 - mse: 0.0150 - mae: 0.0719 - val_loss: 0.0116 - val_mse: 0.0116 - val_mae: 0.0682\n",
      "Epoch 52/100\n",
      "28/28 [==============================] - 0s 17ms/step - loss: 0.0149 - mse: 0.0149 - mae: 0.0712 - val_loss: 0.0117 - val_mse: 0.0117 - val_mae: 0.0689\n",
      "Epoch 53/100\n",
      "28/28 [==============================] - 0s 15ms/step - loss: 0.0148 - mse: 0.0148 - mae: 0.0713 - val_loss: 0.0117 - val_mse: 0.0117 - val_mae: 0.0690\n",
      "Epoch 54/100\n",
      "28/28 [==============================] - 0s 11ms/step - loss: 0.0147 - mse: 0.0147 - mae: 0.0715 - val_loss: 0.0116 - val_mse: 0.0116 - val_mae: 0.0685\n",
      "Epoch 55/100\n",
      "28/28 [==============================] - 0s 12ms/step - loss: 0.0146 - mse: 0.0146 - mae: 0.0711 - val_loss: 0.0116 - val_mse: 0.0116 - val_mae: 0.0681\n",
      "Epoch 56/100\n",
      "28/28 [==============================] - 0s 18ms/step - loss: 0.0145 - mse: 0.0145 - mae: 0.0705 - val_loss: 0.0115 - val_mse: 0.0115 - val_mae: 0.0685\n",
      "Epoch 57/100\n",
      "28/28 [==============================] - 0s 14ms/step - loss: 0.0144 - mse: 0.0144 - mae: 0.0706 - val_loss: 0.0114 - val_mse: 0.0114 - val_mae: 0.0679\n",
      "Epoch 58/100\n",
      "28/28 [==============================] - 0s 15ms/step - loss: 0.0143 - mse: 0.0143 - mae: 0.0707 - val_loss: 0.0112 - val_mse: 0.0112 - val_mae: 0.0672\n",
      "Epoch 59/100\n",
      "28/28 [==============================] - 0s 16ms/step - loss: 0.0142 - mse: 0.0142 - mae: 0.0707 - val_loss: 0.0112 - val_mse: 0.0112 - val_mae: 0.0667\n",
      "Epoch 60/100\n",
      "28/28 [==============================] - 0s 9ms/step - loss: 0.0142 - mse: 0.0142 - mae: 0.0706 - val_loss: 0.0110 - val_mse: 0.0110 - val_mae: 0.0658\n",
      "Epoch 61/100\n",
      "28/28 [==============================] - 0s 14ms/step - loss: 0.0141 - mse: 0.0141 - mae: 0.0706 - val_loss: 0.0109 - val_mse: 0.0109 - val_mae: 0.0658\n",
      "Epoch 62/100\n",
      "28/28 [==============================] - 0s 14ms/step - loss: 0.0141 - mse: 0.0141 - mae: 0.0706 - val_loss: 0.0109 - val_mse: 0.0109 - val_mae: 0.0660\n",
      "Epoch 63/100\n",
      "28/28 [==============================] - 0s 12ms/step - loss: 0.0140 - mse: 0.0140 - mae: 0.0707 - val_loss: 0.0107 - val_mse: 0.0107 - val_mae: 0.0656\n",
      "Epoch 64/100\n",
      "28/28 [==============================] - 0s 14ms/step - loss: 0.0140 - mse: 0.0140 - mae: 0.0709 - val_loss: 0.0107 - val_mse: 0.0107 - val_mae: 0.0659\n",
      "Epoch 65/100\n",
      "28/28 [==============================] - 0s 12ms/step - loss: 0.0140 - mse: 0.0140 - mae: 0.0708 - val_loss: 0.0106 - val_mse: 0.0106 - val_mae: 0.0650\n",
      "Epoch 66/100\n",
      "28/28 [==============================] - 0s 12ms/step - loss: 0.0141 - mse: 0.0141 - mae: 0.0716 - val_loss: 0.0107 - val_mse: 0.0107 - val_mae: 0.0652\n",
      "Epoch 67/100\n",
      "28/28 [==============================] - 0s 10ms/step - loss: 0.0140 - mse: 0.0140 - mae: 0.0715 - val_loss: 0.0103 - val_mse: 0.0103 - val_mae: 0.0639\n",
      "Epoch 68/100\n",
      "28/28 [==============================] - 0s 8ms/step - loss: 0.0140 - mse: 0.0140 - mae: 0.0717 - val_loss: 0.0105 - val_mse: 0.0105 - val_mae: 0.0638\n",
      "Epoch 69/100\n",
      "28/28 [==============================] - 0s 9ms/step - loss: 0.0140 - mse: 0.0140 - mae: 0.0721 - val_loss: 0.0101 - val_mse: 0.0101 - val_mae: 0.0625\n",
      "Epoch 70/100\n",
      "28/28 [==============================] - 0s 8ms/step - loss: 0.0142 - mse: 0.0142 - mae: 0.0729 - val_loss: 0.0101 - val_mse: 0.0101 - val_mae: 0.0622\n",
      "Epoch 71/100\n",
      "28/28 [==============================] - 0s 8ms/step - loss: 0.0142 - mse: 0.0142 - mae: 0.0736 - val_loss: 0.0099 - val_mse: 0.0099 - val_mae: 0.0614\n",
      "Epoch 72/100\n",
      "28/28 [==============================] - 0s 7ms/step - loss: 0.0145 - mse: 0.0145 - mae: 0.0748 - val_loss: 0.0100 - val_mse: 0.0100 - val_mae: 0.0620\n",
      "Epoch 73/100\n",
      "28/28 [==============================] - 0s 12ms/step - loss: 0.0146 - mse: 0.0146 - mae: 0.0759 - val_loss: 0.0104 - val_mse: 0.0104 - val_mae: 0.0647\n",
      "Epoch 74/100\n",
      "28/28 [==============================] - 1s 22ms/step - loss: 0.0148 - mse: 0.0148 - mae: 0.0767 - val_loss: 0.0110 - val_mse: 0.0110 - val_mae: 0.0695\n",
      "Epoch 75/100\n",
      "28/28 [==============================] - 0s 13ms/step - loss: 0.0152 - mse: 0.0152 - mae: 0.0794 - val_loss: 0.0121 - val_mse: 0.0121 - val_mae: 0.0761\n",
      "Epoch 76/100\n",
      "28/28 [==============================] - 0s 10ms/step - loss: 0.0155 - mse: 0.0155 - mae: 0.0808 - val_loss: 0.0133 - val_mse: 0.0133 - val_mae: 0.0819\n",
      "Epoch 77/100\n",
      "28/28 [==============================] - 0s 14ms/step - loss: 0.0157 - mse: 0.0157 - mae: 0.0814 - val_loss: 0.0140 - val_mse: 0.0140 - val_mae: 0.0858\n",
      "Epoch 78/100\n",
      "28/28 [==============================] - 0s 9ms/step - loss: 0.0158 - mse: 0.0158 - mae: 0.0815 - val_loss: 0.0134 - val_mse: 0.0134 - val_mae: 0.0844\n",
      "Epoch 79/100\n",
      "28/28 [==============================] - 0s 8ms/step - loss: 0.0155 - mse: 0.0155 - mae: 0.0796 - val_loss: 0.0124 - val_mse: 0.0124 - val_mae: 0.0794\n",
      "Epoch 80/100\n",
      "28/28 [==============================] - 0s 8ms/step - loss: 0.0151 - mse: 0.0151 - mae: 0.0777 - val_loss: 0.0115 - val_mse: 0.0115 - val_mae: 0.0753\n",
      "Epoch 81/100\n",
      "28/28 [==============================] - 0s 15ms/step - loss: 0.0147 - mse: 0.0147 - mae: 0.0755 - val_loss: 0.0111 - val_mse: 0.0111 - val_mae: 0.0725\n"
     ]
    },
    {
     "name": "stderr",
     "output_type": "stream",
     "text": [
      "INFO:tensorflow:Assets written to: C:\\Users\\Ekubay\\AppData\\Local\\Temp\\tmpr44__1mp\\model\\data\\model\\assets\n"
     ]
    }
   ],
   "source": [
    "model=model_lstm(look_back)\n",
    "\n",
    "history = model.fit(trainX, trainY, epochs=100, batch_size=30, \n",
    "                    validation_data=(testX, testY), callbacks=[EarlyStopping(monitor='val_loss', \n",
    "                                                                             patience=10)], verbose=1, shuffle=False)"
   ]
  },
  {
   "cell_type": "markdown",
   "id": "ea31d6d9",
   "metadata": {},
   "source": [
    "## Step 4: Model Evaluation\n",
    "- Print out error metrics and generate model loss plot."
   ]
  },
  {
   "cell_type": "code",
   "execution_count": 239,
   "id": "eff30a98",
   "metadata": {},
   "outputs": [
    {
     "data": {
      "text/plain": [
       "(70, 1, 30)"
      ]
     },
     "execution_count": 239,
     "metadata": {},
     "output_type": "execute_result"
    }
   ],
   "source": [
    "testX.shape"
   ]
  },
  {
   "cell_type": "code",
   "execution_count": 240,
   "id": "90594147",
   "metadata": {},
   "outputs": [
    {
     "data": {
      "text/plain": [
       "(812, 1, 30)"
      ]
     },
     "execution_count": 240,
     "metadata": {},
     "output_type": "execute_result"
    }
   ],
   "source": [
    "trainX.shape"
   ]
  },
  {
   "cell_type": "code",
   "execution_count": 266,
   "id": "48bcc737",
   "metadata": {},
   "outputs": [],
   "source": [
    "train_predict = model.predict(trainX)\n",
    "print('here')\n",
    "test_predict = model.predict(testX)\n",
    "print('here1')\n",
    "# invert predictions\n",
    "train_predict = scaler.inverse_transform(train_predict)\n",
    "trainY = scaler.inverse_transform([trainY])\n",
    "print('hi')\n",
    "test_predict = scaler.inverse_transform(test_predict)\n",
    "testY = scaler.inverse_transform([testY])\n",
    "print('Train Root Mean Squared Error(RMSE): %.2f; Train Mean Absolute Error(MAE) : %.2f '% \n",
    "      (np.sqrt(mean_squared_error(trainY[0], train_predict[:,0])),(mean_absolute_error(trainY[0], train_predict[:,0]))))\n",
    "print('Test Root Mean Squared Error(RMSE): %.2f; Test Mean Absolute Error(MAE) : %.2f '% \n",
    "      (np.sqrt(mean_squared_error(testY[0], test_predict[:,0])),(mean_absolute_error(testY[0], test_predict[:,0]))))\n",
    "model_loss(history)"
   ]
  },
  {
   "cell_type": "markdown",
   "id": "1b88ccc5",
   "metadata": {},
   "source": [
    "## 5. Visualization"
   ]
  }
 ],
 "metadata": {
  "kernelspec": {
   "display_name": "Python 3 (ipykernel)",
   "language": "python",
   "name": "python3"
  },
  "language_info": {
   "codemirror_mode": {
    "name": "ipython",
    "version": 3
   },
   "file_extension": ".py",
   "mimetype": "text/x-python",
   "name": "python",
   "nbconvert_exporter": "python",
   "pygments_lexer": "ipython3",
   "version": "3.9.7"
  }
 },
 "nbformat": 4,
 "nbformat_minor": 5
}
